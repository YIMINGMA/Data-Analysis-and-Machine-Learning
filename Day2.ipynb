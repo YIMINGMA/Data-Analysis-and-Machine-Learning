{
 "cells": [
  {
   "cell_type": "markdown",
   "metadata": {},
   "source": [
    "# 2. Basic Statistics"
   ]
  },
  {
   "cell_type": "code",
   "execution_count": 1,
   "metadata": {
    "slideshow": {
     "slide_type": "skip"
    }
   },
   "outputs": [],
   "source": [
    "using PyPlot\n",
    "using Distributions\n",
    "using SpecialFunctions\n",
    "using Statistics\n",
    "using LaTeXStrings"
   ]
  },
  {
   "cell_type": "markdown",
   "metadata": {
    "slideshow": {
     "slide_type": "slide"
    }
   },
   "source": [
    "2.1 Multivariate distributions   \n",
    "2.2 Sums of random numbers   \n",
    "2.3 Sample statistics  \n",
    "2.4 Distribution of variance  \n",
    "2.5 Summary and additional questions"
   ]
  },
  {
   "cell_type": "markdown",
   "metadata": {},
   "source": [
    "## 2.1 Multivariate Distributions\n"
   ]
  },
  {
   "cell_type": "markdown",
   "metadata": {
    "slideshow": {
     "slide_type": "slide"
    }
   },
   "source": [
    "2.1.1 Multivariate characteristic functions   \n",
    "2.1.2 Multinoulli or categorical distribution   \n",
    "2.1.3 Multinomial distribution  \n",
    "2.1.4 Multivariate Gaussian distribution  "
   ]
  },
  {
   "cell_type": "markdown",
   "metadata": {},
   "source": [
    "### 2.1.1 Multivariate Characteristic Functions   \n"
   ]
  },
  {
   "cell_type": "markdown",
   "metadata": {
    "slideshow": {
     "slide_type": "subslide"
    }
   },
   "source": [
    "\n",
    "\n",
    "* Consider distributions $f(\\vec{x})$ of multiple variables $\\{x_1,x_2,x_3...\\}$.  \n",
    "\n",
    "\n",
    "* The variables are generally correlated so that the covariance is non-zero $\\langle x_i x_j \\rangle\\neq0$.\n",
    "\n",
    "\n",
    "* Characteristic function definition straightforwardly extended \n",
    "    $$\\hspace{8mm}\\phi_{\\vec{x}}(\\vec{t})=\\langle e^{i\\vec{t}^T\\vec{x}} \\rangle$$"
   ]
  },
  {
   "cell_type": "markdown",
   "metadata": {},
   "source": [
    "### 2.1.2 Multinoulli or Categorical Distribution   \n"
   ]
  },
  {
   "cell_type": "markdown",
   "metadata": {
    "slideshow": {
     "slide_type": "subslide"
    }
   },
   "source": [
    "\n",
    "* The Bernoulli distribution is used to model the outcome of a binary event, like flipping a coin once. \n",
    "\n",
    "\n",
    "* Bernoulli distribution is parameterised by $p_1$ and $p_2$ with constraint $p_1+p_2=1$.   \n",
    "\n",
    "\n",
    "* We can generalise this to $K$ possible outcomes or categories parameterised by $(p_1,~p_2\\cdots p_K)$ with $\\sum_{k=1}^Kp_k=1$\n",
    "\n",
    "\n",
    "* Encoding the result in a vector, like $(1,0,0)$, $(0,1,0)$ or $(0,0,1)$ for an example where $K=3$, is called **one-hot encoding**.   \n",
    "\n"
   ]
  },
  {
   "cell_type": "markdown",
   "metadata": {},
   "source": [
    "### 2.1.3 Multinomial Distribution   \n"
   ]
  },
  {
   "cell_type": "markdown",
   "metadata": {
    "slideshow": {
     "slide_type": "subslide"
    }
   },
   "source": [
    "\n",
    "* A sum of independent binary Bernoulli events results in the binomial distribution.   \n",
    "\n",
    "\n",
    "* Analagously, a sum of multinoulli events results in a multinomial distribution. \n",
    "\n",
    "\n",
    "* A multinomial distribution is what you get by throwing a $K$-sided die $n$ times with a result $(x_1,x_2,\\cdots x_K)$ where $\\sum_{j}x_j=n$.   \n",
    "\n",
    "\n",
    "* The combinatorial factor is the same as you would get from expanding $(p_1+p_2+\\cdots p_K)^n$.  \n",
    "\n",
    "$$\\hspace{8mm}Mu(\\vec{x}|n,\\vec{p})={{n}\\choose{x_1\\cdots x_K}}\\prod_{j=1}^K p_j^{x_j}$$\n",
    "\n",
    "* A multinoulli distribution is the case where $n=1$.   "
   ]
  },
  {
   "cell_type": "markdown",
   "metadata": {
    "slideshow": {
     "slide_type": "subslide"
    }
   },
   "source": [
    "## 2.1.4 Multivariate Gaussian distribution   \n",
    "\n",
    "* Distribution for multiple gaussian variables that allows for correlations.     \n",
    "\n",
    "\n",
    "* For $n$ Gaussian variables, where $\\vec{\\mu}$ is the vector of means and $\\Sigma_{ij}=$Covar$(x_i,x_j)$ is the covariance matrix, the distribution is      \n",
    "\n",
    "$\\hspace{8mm}P(\\vec{x})=\\frac{1}{(2\\pi)^{n/2}}\\frac{1}{\\sqrt{|\\Sigma|}}\\exp(-\\frac{(\\vec{x}-\\vec{\\mu})^T \\Sigma^{-1}(\\vec{x}-\\vec{\\mu})}{2})$\n",
    "\n",
    "\n",
    "* The characteristic function for the multivariate Gaussian is  \n",
    "\n",
    "$\\hspace{8mm}\\phi_{\\vec{x}}(\\vec{t})=\\exp\\left(i\\vec{\\mu}^T \\vec{t} - \\frac{1}{2}\\vec{t}^T\\Sigma\\vec{t}\\right)$\n"
   ]
  },
  {
   "cell_type": "markdown",
   "metadata": {},
   "source": [
    "## 2.2 Sums of Random Numbers"
   ]
  },
  {
   "cell_type": "markdown",
   "metadata": {
    "slideshow": {
     "slide_type": "slide"
    }
   },
   "source": [
    "\n",
    "2.2.1 Functions of random numbers  \n",
    "2.2.2 Law of large numbers  \n",
    "2.2.3 Central limit theorem  \n",
    "2.2.4 Examples of the central-limit theorem"
   ]
  },
  {
   "cell_type": "markdown",
   "metadata": {},
   "source": [
    "### 2.2.1 Functions of Random Numbers\n"
   ]
  },
  {
   "cell_type": "markdown",
   "metadata": {
    "slideshow": {
     "slide_type": "subslide"
    }
   },
   "source": [
    "\n",
    "* Consider repeated samples from the same distribution $X_1$, $X_2$, $\\cdots, X_n$.\n",
    "\n",
    "\n",
    "* A statistic is some function of these measurements. A commonly used statistic is the sample mean  \n",
    "\n",
    "$\\hspace{0.8cm}$ $\\overline{X}=\\frac{1}{n}\\sum_{k=1}^nX_n$\n",
    "\n",
    "* This is a random number with some distribution, for repeated draws.\n",
    "\n",
    "\n",
    "* What are the convergence properties of this quantity when there are many samples taken?"
   ]
  },
  {
   "cell_type": "markdown",
   "metadata": {
    "slideshow": {
     "slide_type": "subslide"
    }
   },
   "source": [
    "## 2.2.2 Law of large numbers\n",
    "\n",
    "* The sample mean is a $\\overline{X}=\\frac{1}{n}\\sum_{k=1}^nX_n$.\n",
    "\n",
    "* Law of large numbers states that \n",
    "\n",
    "$\\hspace{0.8cm}$ $\\overline{X}_n\\to\\mu$  \n",
    "\n",
    "* The characteristic function of a random variable is $\\phi_X(t)=\\langle e^{itX} \\rangle$\n",
    "\n",
    "* Reminder: for the sum $X=X_1+X_2$ the characteristic functions are $\\phi_X(t)=\\phi_{X_1}(t)\\phi_{X_2}(t)$\n",
    "\n",
    "* As these are indpendent samples we have\n",
    "\n",
    "$\\hspace{0.8cm}$ $\\phi_\\overline{X}(t)=\\langle e^{itX/n}\\rangle^n=[\\phi_X(t/n)]^n=[1+\\frac{it}{n}\\langle X \\rangle + O(1/n^2)]^n=e^{it\\langle X \\rangle+O(1/n)}$\n",
    "\n",
    "* But $e^{it\\mu}$ is the characteristic function of a sharply-peaked distribution (Dirac Delta) around $\\mu$. "
   ]
  },
  {
   "cell_type": "markdown",
   "metadata": {
    "slideshow": {
     "slide_type": "subslide"
    }
   },
   "source": [
    "## 2.2.3 Central limit theorem and standard error on the mean\n",
    "\n",
    "* Go beyond the first order in the $t$ expansion of the characteristic function of $\\overline{X}=\\frac{1}{n}\\sum_{k=1}^nX_n$\n",
    "\n",
    "$\\hspace{0.8cm}$ $\\phi_\\overline{X}(t)=\\langle e^{itX/n}\\rangle^n=[\\phi_X(t/n)]^n=[1+\\frac{it}{n}\\langle X \\rangle - \\frac{t^2}{2n^2}\\langle X^2 \\rangle+\\cdots]^n\\simeq e^{[?]}$\n",
    "\n",
    "* **<font color='red'>Question:</font>** Calculate the argument of the exponential to order $1/n$.   \n",
    "Compare it to the list of characteristic functions is 1.4.3. Infer the distribution and give its mean and variance.\n"
   ]
  },
  {
   "cell_type": "markdown",
   "metadata": {
    "slideshow": {
     "slide_type": "subslide"
    }
   },
   "source": [
    "## 2.2.4 <font color='red'>Question:</font> Examples of the central limit theorem\n",
    "\n",
    "Consider two gamma distributions $(\\alpha,\\beta)$ with shape factors $(0.5,0.5)$ and $(5.0,5.0)$.\n",
    "\n",
    "\n",
    "* What are their means?\n",
    "\n",
    "\n",
    "* Plot the pdfs for these two cases.\n",
    "\n",
    "\n",
    "* Consider a sample size $n$ for calculating the sample mean.   \n",
    "Plot the histogram of sample means for these two cases for $N$ repeated experiments, one graph for each gamma case.\n",
    "\n",
    "\n",
    "* Plot the normal distributions corresponding to the central limit theorem on the same graphs."
   ]
  },
  {
   "cell_type": "markdown",
   "metadata": {},
   "source": [
    "Let $X \\sim Gamma(0.5,0.5)$ and $Y \\sim Gamma(5.0,5.0)$. Then by $\\mathbb{E}[Gamma(\\alpha, \\beta)] = \\frac{\\alpha}{\\beta}$, we know $\\mathbb{E}[X] = \\mathbb{E}[Y] = 1$."
   ]
  },
  {
   "cell_type": "code",
   "execution_count": 2,
   "metadata": {},
   "outputs": [
    {
     "data": {
      "text/plain": [
       "gamma_pdf (generic function with 1 method)"
      ]
     },
     "execution_count": 2,
     "metadata": {},
     "output_type": "execute_result"
    }
   ],
   "source": [
    "x = 0.01:0.01:20\n",
    "\n",
    "function gamma_pdf(x, α, β)\n",
    "    result = 1/gamma(α) * β^α * x.^(α-1) .* exp.(-β*x)\n",
    "    return result\n",
    "end"
   ]
  },
  {
   "cell_type": "code",
   "execution_count": 10,
   "metadata": {
    "slideshow": {
     "slide_type": "skip"
    }
   },
   "outputs": [
    {
     "data": {
      "image/png": "[encoded data removed]",
      "text/plain": [
       "Figure(PyObject <Figure size 640x480 with 1 Axes>)"
      ]
     },
     "metadata": {},
     "output_type": "display_data"
    }
   ],
   "source": [
    "X = gamma_pdf(x, 0.5, 0.5)\n",
    "Y = gamma_pdf(x, 5.0, 5.0)\n",
    "\n",
    "plt.plot(x, X, label=L\"\\alpha=0.5,\\, \\beta=0.5\")\n",
    "plt.plot(x, Y, label=L\"\\alpha=5.0,\\, \\beta=5.0\")\n",
    "plt.xlabel(L\"x\")\n",
    "plt.ylabel(L\"y\")\n",
    "plt.legend()\n",
    "plt.title(\"PDFs of Gamma Distribution\")\n",
    "\n",
    "plt.show()\n"
   ]
  },
  {
   "cell_type": "markdown",
   "metadata": {},
   "source": [
    "One method for numerical sampling is called the **Grid** method.\n",
    "\n",
    "Let $X \\sim f_X(x)$ and $\\mathcal{S}_X$ denote its support. To generate $X$, we first select an appropriate grid of $\\{x_i\\}_{i=1}^d$, that cover the support $\\mathcal{S}_X$, and then approximate the pdf $f_X(x)$ by a discrete density at $\\{x_i\\}_{i = 1}^d$ with probabilities \n",
    "$$\n",
    "p_i = \\frac{f_X(x_i)}{\\sum_{j=1}^d f_X(x_j)}, \\, i = 1,\\cdots, d.\n",
    "$$\n",
    "\n",
    "But Julia provides the sampling function for gamma distribution in ```Distributions.jl```."
   ]
  },
  {
   "cell_type": "code",
   "execution_count": 11,
   "metadata": {},
   "outputs": [
    {
     "name": "stdout",
     "output_type": "stream",
     "text": [
      "rand(Gamma(0.5, 2), 1) = [0.04187310189254784]\n"
     ]
    },
    {
     "data": {
      "text/plain": [
       "1-element Array{Float64,1}:\n",
       " 0.04187310189254784"
      ]
     },
     "execution_count": 11,
     "metadata": {},
     "output_type": "execute_result"
    }
   ],
   "source": [
    "@show rand(Gamma(0.5, 2), 1) # generate one random sample from gamma distribution"
   ]
  },
  {
   "cell_type": "code",
   "execution_count": null,
   "metadata": {},
   "outputs": [],
   "source": [
    "samples_X = rand(Gamma(0.5, 1/0.5), 50, 10000)\n",
    "means_X = mean(samples_X, dims=2)\n",
    "normal1 = Normal(0.5/0.5, 0.5/(0.5^2))\n",
    "\n",
    "plt.hist(means_X)\n",
    "plot!(x, pdf.(normal1, x))"
   ]
  },
  {
   "cell_type": "code",
   "execution_count": null,
   "metadata": {},
   "outputs": [],
   "source": [
    "samples_Y = rand(Gamma(0.5, 1/0.5), 1000, 10000)\n",
    "means_Y = mean(samples_Y, dims=2)\n",
    "histogram(means_Y, bins=LinRange(0.95,1.05,21), label=L\"\\mathbb{E}[X]\")"
   ]
  },
  {
   "cell_type": "markdown",
   "metadata": {
    "slideshow": {
     "slide_type": "slide"
    }
   },
   "source": [
    "# 2.3 Sample statistics\n",
    "\n",
    "2.3.1 Sample mean  \n",
    "2.3.2 Sample variance  \n",
    "2.3.3 Sample variance derivation  \n",
    "2.3.4 Numerical test"
   ]
  },
  {
   "cell_type": "markdown",
   "metadata": {
    "slideshow": {
     "slide_type": "subslide"
    }
   },
   "source": [
    "## 2.3.1 Sample mean\n",
    "\n",
    "* The sample mean tends towards the true mean as $n\\to\\infty$. Is it a biased estimator?\n",
    "\n",
    "$\\hspace{0.8cm}$ $\\overline{X}=\\frac{1}{n}\\sum_{k=1}^nX_n$\n",
    "\n",
    "* What is the average value of the sample mean? \n",
    "\n",
    "$\\hspace{0.8cm}$ $\\langle\\overline{X}\\rangle=\\frac{1}{n}\\sum_{k=1}^n\\langle X_n \\rangle$\n",
    "\n",
    "* This is just $\\mu$ so it is **not** a biased estimator. \n",
    "\n",
    "\n",
    "* What about the sample variance?\n"
   ]
  },
  {
   "cell_type": "markdown",
   "metadata": {
    "slideshow": {
     "slide_type": "subslide"
    }
   },
   "source": [
    "## 2.3.2 Sample variance $\\newcommand{\\Ex}[1]{\\langle #1\\rangle}$\n",
    "\n",
    "* The sample mean is $\\overline{X}=\\frac{1}{n}\\sum_{k=1}^nX_n$ and $\\Ex{\\overline{X}}=\\mu$.\n",
    "\n",
    "\n",
    "* The variance of the population is Var$(X)=\\Ex{X^2}-\\Ex{X}^2$ and call this $\\sigma^2$\n",
    "\n",
    "\n",
    "* Consider a sample variance defined as $s^2_b=\\frac{1}{n}\\sum_{k=1}^n(X_k-\\overline{X})^2$ where $\\overline{X}$ is used as an estimate of the true mean.   \n",
    "(Note: use of subscript $b$ explained later)\n",
    "\n",
    "\n",
    "* We need to use the sample variance to infer the population variance so we can estimate the standard-error on the mean.\n",
    "\n",
    "\n",
    "* What is the expectation of this sample variance? Is $\\Ex{s^2_b}=\\sigma^2$ or not?"
   ]
  },
  {
   "cell_type": "markdown",
   "metadata": {
    "slideshow": {
     "slide_type": "subslide"
    }
   },
   "source": [
    "## 2.3.3 <font color='red'>Question:</font> Sample variance derivation $\\newcommand{\\Ex}[1]{\\left\\langle #1\\right\\rangle}$ \n",
    "\n",
    "* Using the sample mean and previous definition for the sample variance  \n",
    "\n",
    "$\\hspace{0.8cm}$ $\\overline{X}=\\frac{1}{n}\\sum_{k=1}^nX_n$  $~$ and $~$  $s^2_b=\\frac{1}{n}\\sum_{k=1}^n(X_k-\\overline{X})^2$\n",
    "\n",
    "* Express the following variance in terms of the population $\\Ex{X^2}-\\Ex{X}^2=\\sigma^2$\n",
    "\n",
    "$\\hspace{0.8cm}$ $\\Ex{s^2_b}=\\frac{1}{n}\\sum_{k=1}^n\\Ex{\\left(X_k-\\frac{1}{n}\\sum_{j=1}^nX_j\\right)^2}$  "
   ]
  },
  {
   "cell_type": "markdown",
   "metadata": {
    "slideshow": {
     "slide_type": "subslide"
    }
   },
   "source": [
    "## 2.3.3 <font color='green'>Answer:</font> Sample variance derivation $\\newcommand{\\Ex}[1]{\\left\\langle #1\\right\\rangle}$ \n",
    "\n",
    "* Using the sample mean and previous definition for the sample variance\n",
    "\n",
    "$\\hspace{0.8cm}$ $\\overline{X}=\\frac{1}{n}\\sum_{k=1}^nX_n$  $~$ and $~$  $s^2_b=\\frac{1}{n}\\sum_{k=1}^n(X_k-\\overline{X})^2$\n",
    "\n",
    "* Express the following variance in terms of the population $\\Ex{X^2}-\\Ex{X}^2=\\sigma^2$\n",
    "\n",
    "$\\hspace{0.8cm}$ $\\Ex{s^2_b}=\\frac{1}{n}\\sum_{k=1}^n\\Ex{\\left(X_k-\\frac{1}{n}\\sum_{j=1}^nX_j\\right)^2}$  \n",
    "$\\hspace{0.8cm}$ $\\Ex{s^2_b}=\\frac{1}{n}\\sum_{k=1}^n\\left(\\Ex{X_k^2}-\\frac{2}{n}\\sum_{j=1}^n\\Ex{X_kX_j}+\\frac{1}{n^2}\\sum_{j=1}^n\\sum_{i=1}^n\\Ex{X_jX_i} \\right)$  \n",
    "\n",
    "* Collect up similar terms\n",
    "\n",
    "$\\hspace{0.8cm}$ $\\Ex{s^2_b}=\\frac{1}{n}\\sum_{k=1}^n\\left( \\Ex{X^2}\\left(1-\\frac{2}{n}+\\frac{1}{n} \\right)-\\Ex{X}^2\\left(\\frac{2(n-1)}{n}-\\frac{n-1}{n}\\right) \\right)$  \n",
    "$\\hspace{0.8cm}$ $\\Ex{s^2_b}=\\frac{n-1}{n}\\left(\\Ex{X^2}-\\Ex{X}^2\\right)=\\frac{n-1}{n}\\sigma^2$\n",
    "\n",
    "* So $\\Ex{s^2_b}$ is a **biased** estimator. It underestimates the true variance.   \n",
    "* But this is easily fixed! An unbiased estimator is $s^2_b n/(n-1)$.   \n",
    "* We defined the unbiased sample mean\n",
    "\n",
    "$\\hspace{0.8cm}$ $\\Ex{s^2_u}=\\frac{1}{n-1}\\sum_{k=1}^n(X_k-\\overline{X})^2$\n",
    "\n",
    "$\\hspace{0.8cm}$ ** Take care ! ** The literature is a mess: it's not always clear what is being used."
   ]
  },
  {
   "cell_type": "markdown",
   "metadata": {},
   "source": [
    "### 2.3.4 <font color='red'>Question:</font> Numerical Test"
   ]
  },
  {
   "cell_type": "markdown",
   "metadata": {
    "slideshow": {
     "slide_type": "subslide"
    }
   },
   "source": [
    "\n",
    "\n",
    "* Generate some random numbers\n",
    "\n",
    "\n",
    "* Calculate the sample mean\n",
    "\n",
    "\n",
    "* Calculate the biased sample variance and compare to the results using the **var** command.\n",
    "\n",
    "\n",
    "* Does **Julia** use the a biased or unbiased variance?"
   ]
  },
  {
   "cell_type": "code",
   "execution_count": null,
   "metadata": {},
   "outputs": [],
   "source": []
  },
  {
   "cell_type": "code",
   "execution_count": null,
   "metadata": {},
   "outputs": [],
   "source": []
  },
  {
   "cell_type": "markdown",
   "metadata": {
    "slideshow": {
     "slide_type": "slide"
    }
   },
   "source": [
    "# 2.4 Distribution of sample variance\n",
    "\n",
    "2.4.1 Distribution of a squared normal  \n",
    "2.4.2 Sum of squares of normals  \n",
    "2.4.3 Distribution of sample variance  \n",
    "2.4.4 Numerical example  "
   ]
  },
  {
   "cell_type": "markdown",
   "metadata": {
    "slideshow": {
     "slide_type": "subslide"
    }
   },
   "source": [
    "## 2.4.1 Distribution of a squared normal\n",
    "\n",
    "* A random number $Z$ drawn from a standard normal (zero mean, unit variance).\n",
    "\n",
    "* We are interested in the statistics of its square\n",
    "\n",
    "$\\hspace{0.8cm}$ $X=Z^2$\n",
    "\n",
    "* **<font color='red'>Question:</font>** Using the transformation rules, derive the distribution for $X$.\n"
   ]
  },
  {
   "cell_type": "markdown",
   "metadata": {
    "slideshow": {
     "slide_type": "subslide"
    }
   },
   "source": [
    "## 2.4.2 Sums of squared normals\n",
    "\n",
    "* We now consider a sum of $k$ squared normals\n",
    "\n",
    "$\\hspace{0.8cm}$ $Q_k=\\sum_{j=1}^kZ_k^2$\n",
    "\n",
    "* What does this distribution look like?  \n",
    "* We first compare the $\\chi^2_1$ distribution for one $Z^2$ with the gamma distribution form\n",
    "\n",
    "$\\hspace{0.8cm}$ $\\chi_1^2(x)=\\frac{1}{\\sqrt{2\\pi}}x^{-1/2}e^{-x/2}$ $~$ and $~$ $f(x)=\\frac{1}{\\Gamma(\\alpha)}\\beta^\\alpha x^{\\alpha-1}e^{-\\beta x}$\n",
    "\n",
    "* The $\\chi^2_1$ distribution looks like a gamma with $\\alpha=1/2$ and $\\beta=1/2$.  \n",
    "* Summation rule for gamma distributions is that the $\\alpha$s add if the $\\beta$s are the same. \n",
    "\n",
    "* The distribution for $Q_k$ is therefore\n",
    "\n",
    "$\\hspace{0.8cm}$ $\\chi_k^2(x)=\\frac{1}{\\Gamma(k/2)}\\frac{1}{2^{k/2}} x^{k/2-1}e^{-x/2}$\n",
    "\n",
    "\n",
    "* This is a $\\chi_k^2$ distribution with $k$ degrees of freedom."
   ]
  },
  {
   "cell_type": "markdown",
   "metadata": {
    "slideshow": {
     "slide_type": "subslide"
    }
   },
   "source": [
    "## 2.4.3 Sample variance distributions for normals\n",
    "\n",
    "* The sample mean and unbiased sample variance  \n",
    "\n",
    "$\\hspace{0.8cm}$ $\\overline{X}=\\frac{1}{n}\\sum_{k=1}^nX_n$  $~$ and $~$  $s^2_u=\\frac{1}{n-1}\\sum_{k=1}^n(X_k-\\overline{X})^2$\n",
    "\n",
    "* The sample mean has distribution for large $n$ that approaches normal with $\\mu$, $\\sigma^2/n$.\n",
    "\n",
    "* What is the distribution of the sample variance?   \n",
    "* Can be calculated for Normally distributed random variables.\n",
    "* This calculation is beyond the scope of this course (see Cochran's theorem).  \n",
    "* Result is that, the unbiased sample variance $s_u^2$ and population variance $\\sigma^2$ obey\n",
    "\n",
    "$\\hspace{0.8cm}$ $s^2_u(n-1)/\\sigma^2$ follows a $\\chi_{n-1}^2$ distribution."
   ]
  },
  {
   "cell_type": "markdown",
   "metadata": {
    "slideshow": {
     "slide_type": "subslide"
    }
   },
   "source": [
    "## 2.4.4 <font color='red'>Question:</font> sample variance numerics\n",
    "\n",
    "* Draw $n$ samples and calculate the sample mean and unbiased sample variance for normally  distributed random numbers. Repeat this a large number of times and plot the histograms of the sample means and sample variances, together with their theoretical predictions. "
   ]
  },
  {
   "cell_type": "markdown",
   "metadata": {
    "slideshow": {
     "slide_type": "slide"
    }
   },
   "source": [
    "# 2.5 Summary and additional questions\n",
    "\n",
    "## Day 2 Basic statistics\n",
    "\n",
    "2.1 Multivariate distributions \n",
    "2.2 Sums of random numbers  \n",
    "2.3 Sample statistics  \n",
    "2.4 Distribution of variance  \n",
    "2.5 Summary and additional questions \n",
    "\n",
    "---\n",
    "\n",
    "## Additional questions\n",
    "\n",
    "**Q2.5.1** Bivariate Gaussian   \n",
    "**Q2.5.2** Sample mean of house prices  \n",
    "**Q2.5.3** Distribution of house prices   \n",
    "**Q2.5.4** Detailed analysis of 2020 house prices   "
   ]
  },
  {
   "cell_type": "markdown",
   "metadata": {
    "slideshow": {
     "slide_type": "subslide"
    }
   },
   "source": [
    "## Q2.5.1 <font color='red'>Question:</font> Bivariate Gaussian\n",
    "\n",
    "* Consider two correlated Gaussian random variables $x$ and $y$, with zero means, variances $\\sigma_x^2,~\\sigma_y^2$ and covariance $\\Ex{xy}=\\sigma_{xy}^2$.    \n",
    "* Given the general quadratic form in the argument of the multivariate Gaussian, satisfy yourself that the following (with $a$ and $b$ yet to be determined) is sufficiently general to describe the probability density.\n",
    "\n",
    "$\\hspace{8mm}\\phi(x,y)=\\frac{\\exp(-(y-ax)^2/2b^2)}{\\sqrt{2\\pi b^2}}\\frac{\\exp(-x^2/2\\sigma_x^2)}{\\sqrt{2\\pi \\sigma_x^2}}$\n",
    "* What is the interpretation of the first Gaussian in terms of conditional densities?  \n",
    "* Are $x$ and $y-ax$ dependent or not?   \n",
    "* Use expectations and normalisation conditions to determine $a$ and $b$ in terms of $\\sigma_x^2,~\\sigma_y^2$ and $\\sigma^2_{xy}$.   "
   ]
  },
  {
   "cell_type": "markdown",
   "metadata": {
    "collapsed": true,
    "slideshow": {
     "slide_type": "subslide"
    }
   },
   "source": [
    "## Q2.5.2 <font color='red'>Question:</font> Sample mean of house prices\n",
    "\n",
    "* Go to the site  \n",
    "https://www.gov.uk/government/statistical-data-sets/price-paid-data-downloads\n",
    "\n",
    "* Scroll down to 2020 and download \"the complete yearly data as a CSV file (complete)\"   \n",
    "\n",
    "* Using the Julia package \"DelimitedFiles\", load the file into a matrix M using: M=readdlm(\"pp-2020.csv\",',') \n",
    "\n",
    "* Extract all prices less than or equal to £2M and calculate the mean and standard deviation.\n",
    "\n",
    "* Now draw a sample of size $n$ (choose of the order of 10s) and calculate the sample mean.   \n",
    "\n",
    "* Using repeated samples, show the sample mean has a Normal distribution (for sufficiently large $n$).  \n",
    "\n",
    "* Verify that the parameters of this normal distribution are given by the true mean and standard error on the mean.  \n"
   ]
  },
  {
   "cell_type": "markdown",
   "metadata": {
    "collapsed": true,
    "slideshow": {
     "slide_type": "subslide"
    }
   },
   "source": [
    "## Q2.5.3 <font color='red'>Question:</font> Distribution of house prices\n",
    "\n",
    "* Plot a histogram of the house prices that are less than or equal to £2M.  \n",
    "\n",
    "* What distribution, if any, provides a good fit of the data?\n",
    "\n",
    "* HINT: find you can try the fit command from the Distributions.jl package.   "
   ]
  },
  {
   "cell_type": "markdown",
   "metadata": {
    "slideshow": {
     "slide_type": "subslide"
    }
   },
   "source": [
    "## Q2.5.4 <font color='red'>Question:</font> Detailed analysis of 2020 house prices   \n",
    "\n",
    "* Provide a quantitative analysis of any interesting patterns you can find in the data. \n",
    "* You can work in your groups and report to the class next week.     "
   ]
  },
  {
   "cell_type": "code",
   "execution_count": null,
   "metadata": {},
   "outputs": [],
   "source": []
  }
 ],
 "metadata": {
  "celltoolbar": "Slideshow",
  "kernelspec": {
   "display_name": "JuliaPro_v1.5.2-1 1.5.2",
   "language": "julia",
   "name": "juliapro_v1.5.2-1-1.5"
  },
  "language_info": {
   "file_extension": ".jl",
   "mimetype": "application/julia",
   "name": "julia",
   "version": "1.5.2"
  },
  "rise": {
   "enable_chalkboard": true,
   "scroll": true
  }
 },
 "nbformat": 4,
 "nbformat_minor": 2
}
