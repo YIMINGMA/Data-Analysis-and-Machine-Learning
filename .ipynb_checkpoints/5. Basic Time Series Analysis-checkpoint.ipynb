{
 "cells": [
  {
   "cell_type": "markdown",
   "metadata": {},
   "source": [
    "# 5 Basic Time Series Analysis"
   ]
  },
  {
   "cell_type": "code",
   "execution_count": 1,
   "metadata": {
    "slideshow": {
     "slide_type": "skip"
    }
   },
   "outputs": [],
   "source": [
    "using PyPlot\n",
    "using Statistics\n",
    "using Distributions\n",
    "using Random\n",
    "Random.seed!(1234);"
   ]
  },
  {
   "cell_type": "markdown",
   "metadata": {
    "slideshow": {
     "slide_type": "slide"
    }
   },
   "source": [
    "5.1 Curve-fitting     \n",
    "5.2 Stochastic time-series models    \n",
    "5.3 Summary and additional questions    "
   ]
  },
  {
   "cell_type": "markdown",
   "metadata": {},
   "source": [
    "## 5.0 Recap of Last Week"
   ]
  },
  {
   "cell_type": "markdown",
   "metadata": {
    "slideshow": {
     "slide_type": "subslide"
    }
   },
   "source": [
    "**Frequentist** approach  \n",
    "* Consider all possible results of an experiment  \n",
    "* Ask how likely a result as extreme as that seen was  \n",
    "* P-values, significance and confidence intervals \n",
    "* Probability of data given hypothesis  \n",
    "\n",
    "\n",
    "**Bayesian** approach\n",
    "* Update prior views using data  \n",
    "* Resulting posterior can be used as future prior  \n",
    "* Direct evaluation of probability of hypothesis given data  \n",
    "* Credible intervals etc more naturally defined.  "
   ]
  },
  {
   "cell_type": "markdown",
   "metadata": {},
   "source": [
    "## 5.1 Curve-Fitting "
   ]
  },
  {
   "cell_type": "markdown",
   "metadata": {
    "slideshow": {
     "slide_type": "slide"
    }
   },
   "source": [
    "5.1.1 Preprocessing data     \n",
    "5.1.2 Linear regression    \n",
    "5.1.3 Polynomial regression     "
   ]
  },
  {
   "cell_type": "markdown",
   "metadata": {},
   "source": [
    "### 5.1.1 Preprocessing Data"
   ]
  },
  {
   "cell_type": "markdown",
   "metadata": {
    "slideshow": {
     "slide_type": "subslide"
    }
   },
   "source": [
    "* Identify any \"bad\" entries in the data: ```NaN``` or similar\n",
    "\n",
    "\n",
    "* Cut-out or replace with principled replacement  \n",
    "for example: mean of neighbouring points, linear extrapolation, etc\n",
    "\n",
    "\n",
    "* Plot out the data and take a good look  \n",
    "do this before applying any statistical tests\n",
    "\n",
    "\n",
    "* Smooth data and remove outliers if necessary   "
   ]
  },
  {
   "cell_type": "markdown",
   "metadata": {},
   "source": [
    "### 5.1.1 Preprocessing: Smoothing"
   ]
  },
  {
   "cell_type": "markdown",
   "metadata": {
    "slideshow": {
     "slide_type": "subslide"
    }
   },
   "source": [
    "\n",
    "* Many different approaches to smoothing a data set $x_k$\n",
    "\n",
    "\n",
    "* Boxcar smoothing $x'_k=\\frac{1}{2n+1}\\sum_{j=-n}^{n}x_{k+j}$\n",
    "\n",
    "\n",
    "* Weighted smoothing $x'_k=\\sum_{j=-n}^{n}w_jx_{k+j}$ where $\\sum w_j=1$.\n",
    "\n",
    "\n",
    "* Iterative $x'_k=x_k(1-2\\alpha)+\\alpha(x_{k-1}+x_{k+1})$ where $\\alpha$ is small.  \n",
    "Repeat many times as required: effectively diffusive smoothing.\n",
    "\n",
    "\n",
    "* Remove smoothed data from original data to get high-frequency components."
   ]
  },
  {
   "cell_type": "markdown",
   "metadata": {},
   "source": [
    "### 5.1.2 Linear Regression"
   ]
  },
  {
   "cell_type": "markdown",
   "metadata": {
    "slideshow": {
     "slide_type": "subslide"
    }
   },
   "source": [
    "* Consider first trivial case of fitting a straight line.\n",
    "\n",
    "\n",
    "* Imagine $N$ data points data $\\{t_n \\}$ and $\\{x_n \\}$\n",
    "\n",
    "\n",
    "* Want to find the best fit $f_n=\\kappa_1t_n+\\kappa_0$ in the least-squares sense.\n",
    "\n",
    "\n",
    "* Define an error function $E=\\frac{1}{2N}\\sum_{n=1}^N(f_n-x_n)^2$\n",
    "\n",
    "\n",
    "* **<font color='red'>Question:</font>** What $\\kappa_0$ and $\\kappa_1$ minimise $E$?\n",
    "\n",
    "\n",
    "* **HINT** Introduce quantities like $\\langle xt \\rangle=\\frac{1}{N}\\sum_{n=1}^Nx_nt_n$ etc"
   ]
  },
  {
   "cell_type": "markdown",
   "metadata": {
    "slideshow": {
     "slide_type": "subslide"
    }
   },
   "source": [
    "* Error function is $E=\\frac{1}{2N}\\sum_{n=1}^N(f_n-x_n)^2$\n",
    "\n",
    "\n",
    "* Fit function is $~f_n=\\kappa_1t_n+\\kappa_0$   \n",
    "\n",
    "\n",
    "* **<font color='green'>Answer:</font>** Minimise $E$ to find $\\kappa_0$ and $\\kappa_1$.\n",
    "\n",
    "\n",
    "* Minimise $\\frac{\\partial E}{\\partial \\kappa_i}=0$ implies $0=\\frac{1}{N}\\sum_{n=1}^N(f_n-x_n)\\frac{\\partial f_n}{\\partial \\kappa_i}$\n",
    "\n",
    "\n",
    "* Yielding two equations \n",
    "\n",
    "$\\hspace{0.8cm}\\begin{eqnarray}\n",
    "\\kappa_0+\\kappa_1\\langle  t \\rangle&=&\\langle x \\rangle \\\\\n",
    "\\kappa_0\\langle t \\rangle+\\kappa_1\\langle t^2 \\rangle&=&\\langle xt \\rangle\n",
    "\\end{eqnarray}$\n",
    "\n",
    "\n",
    "* Straightforward to invert this to give...\n",
    "\n",
    "\n",
    "$\\hspace{0.8cm}\\kappa_0=\\frac{\\langle t^2 \\rangle\\langle x \\rangle-\\langle xt \\rangle \\langle t\\rangle}{\\langle t^2 \\rangle-\\langle t \\rangle ^2}~$ and $~\\kappa_1=\\frac{\\langle xt \\rangle-\\langle x \\rangle \\langle t\\rangle}{\\langle t^2 \\rangle-\\langle t \\rangle ^2}$\n",
    "\n",
    "\n",
    "* **Note:** gradient and correlation-coefficient relation $\\kappa_1\\sigma_t=\\varrho\\sigma_x$"
   ]
  },
  {
   "cell_type": "markdown",
   "metadata": {},
   "source": [
    "### 5.1.3 Polynomial Regression$\\newcommand{\\Ex}[1]{\\langle #1 \\rangle}$"
   ]
  },
  {
   "cell_type": "markdown",
   "metadata": {
    "slideshow": {
     "slide_type": "subslide"
    }
   },
   "source": [
    "* Straightforward to generalise to an $M$th order polynomial.\n",
    "\n",
    "\n",
    "* Now $f_n=\\sum_{m=0}^M\\kappa_mt^m_n$ with error still $E=\\frac{1}{2N}\\sum_{n=1}^N(f_n-x_n)^2$.  \n",
    "\n",
    "\n",
    "* Minimising $E$ with respect to $\\kappa_{m'}$ gives  \n",
    "\n",
    "$\\hspace{0.8cm} \\kappa_0\\langle t^{m'}\\rangle + \\kappa_1\\langle t^{m'+1}\\rangle+\\cdots+\\kappa_M\\langle t^{m'+M}\\rangle=\\langle xt^{m'} \\rangle$\n",
    "\n",
    "* **<font color='red'>Question:</font>** Confirm this!  \n",
    "\n",
    "\n",
    "\n",
    "* There are $(M+1)$ of these equalities, so that\n",
    "\n",
    "$\n",
    "\\hspace{0.8cm}\\left( \n",
    "\\begin{matrix}\n",
    "  1        & \\Ex{t}      & \\Ex{t^2} & \\cdots & \\Ex{t^M}\\\\\n",
    "  \\Ex{t}   & \\Ex{t^2}    & \\cdots   &        & \\Ex{t^{M+1}}  \\\\\n",
    "  \\Ex{t^2} & \\cdots      &          &        & \\Ex{t^{M+2}} \\\\\n",
    "  \\vdots    &             &          &        & \\vdots\\\\\n",
    " \\Ex{t^M}  & \\Ex{t^{M+1}}& \\Ex{t^{M+2}}         &   \\cdots     &\\Ex{t^{2M}} \n",
    " \\end{matrix}\\right) \n",
    " \\left(\n",
    "\\begin{matrix}\n",
    " \\kappa_0\\\\ \n",
    " \\kappa_1\\\\\n",
    "  \\kappa_2\\\\\n",
    "  \\vdots \\\\\n",
    " \\kappa_M\\\\\n",
    "\\end{matrix}\n",
    "\\right)=\\left(\n",
    "\\begin{matrix}\n",
    " \\Ex{x}\\\\ \n",
    " \\Ex{xt}\\\\\n",
    "  \\Ex{xt^2}\\\\\n",
    "  \\vdots \\\\\n",
    " \\Ex{xt^M}\\\\\n",
    "\\end{matrix}\n",
    "\\right)$\n",
    "\n",
    "\n",
    "* Which can be solved numerically by multiplying by the inverse matrix."
   ]
  },
  {
   "cell_type": "markdown",
   "metadata": {},
   "source": [
    "### 5.1.3 <font color='red'>Question:</font> Code a Polynomial Fit"
   ]
  },
  {
   "cell_type": "markdown",
   "metadata": {
    "slideshow": {
     "slide_type": "subslide"
    }
   },
   "source": [
    "Write functions that accept $N$ data pairs $(t_n,x_n)$ and return:  \n",
    "* The $(M+1)$ polynomial fit parameters $\\{\\kappa_m\\}$ for an $M$th-order polynomial.  \n",
    "* The error of the fit.  \n",
    "* The best fit line.\n",
    "\n",
    "\n",
    "Then...\n",
    "\n",
    "\n",
    "* Generate a first set of training data: 10 points from a cubic polynomial with zero-mean independent gaussian noise added to each point.  \n",
    "\n",
    "* Generate a seond set of test data: 10 points from the same cubic polynomial with different zero-mean independent gaussian noise added to each point.  \n",
    "\n",
    "* Find least-squared fits of the training data to polynomials of orders $M=1,~\\cdots,8$ and plot the error as a function of polynomial order.  \n",
    "\n",
    "* Using the fit parameters generated from the training data, find the error for the test data and plot as a function of polynomial order for the test set on the same graph and compare.  "
   ]
  },
  {
   "cell_type": "markdown",
   "metadata": {},
   "source": [
    "### 5.1.3 <font color='green'>Answer:</font> Code a Polynomial Fit"
   ]
  },
  {
   "cell_type": "markdown",
   "metadata": {},
   "source": [
    "Actually, we can reformulate the model into \n",
    "\n",
    "$$\n",
    "X = \\begin{bmatrix}\n",
    "1 & t_1 & t_1^2 & \\cdots & t_1^M \\\\\n",
    "1 & t_2 & t_2^2 & \\cdots & t_2^M \\\\\n",
    "\\vdots & \\vdots & \\vdots & \\ddots & \\vdots \\\\\n",
    "1 & t_n & t_n^2 & \\cdots & t_n^M \\\\\n",
    "\\end{bmatrix}_{n \\times (M+1)}\n",
    "\\quad \n",
    "\\beta = \\begin{bmatrix}\n",
    "\\kappa_0 \\\\\n",
    "\\kappa_1 \\\\\n",
    "\\vdots \\\\\n",
    "\\kappa_M\n",
    "\\end{bmatrix}_{(M+1) \\times 1}\n",
    "\\quad\n",
    "\\text{and}\n",
    "\\quad \n",
    "Y = \\begin{bmatrix}\n",
    "x_1 \\\\\n",
    "x_2 \\\\\n",
    "\\vdots \\\\\n",
    "x_n\n",
    "\\end{bmatrix}_{n \\times 1}.\n",
    "$$\n",
    "\n",
    "And we want to minimize\n",
    "\n",
    "$$\n",
    "(Y - X \\beta)^T(Y - X\\beta),\n",
    "$$\n",
    "\n",
    "with respect to $\\beta$."
   ]
  },
  {
   "cell_type": "markdown",
   "metadata": {},
   "source": [
    "Since\n",
    "\n",
    "$$\n",
    "(Y - X\\beta)^T(Y-X\\beta) = Y^TY - 2 \\beta^T X^T y + \\beta^T X^T X \\beta,\n",
    "$$\n",
    "\n",
    "we have \n",
    "\n",
    "$$\n",
    "\\frac{\\partial}{\\partial \\beta} (Y - X\\beta)^T(Y-X\\beta) = -2 X^T Y + 2 X^TX\\beta.\n",
    "$$\n",
    "\n",
    "Let $\\frac{\\partial}{\\partial \\beta} (Y - X\\beta)^T(Y-X\\beta) = 0$ and we have \n",
    "\n",
    "$$\\hat{\\beta} = (X^TX)^{-1}X^T Y.$$"
   ]
  },
  {
   "cell_type": "code",
   "execution_count": 2,
   "metadata": {},
   "outputs": [
    {
     "data": {
      "text/plain": [
       "linear_regression (generic function with 1 method)"
      ]
     },
     "execution_count": 2,
     "metadata": {},
     "output_type": "execute_result"
    }
   ],
   "source": [
    "function linear_regression(X, Y)\n",
    "    return (transpose(X) * X) \\ transpose(X) * Y\n",
    "end"
   ]
  },
  {
   "cell_type": "code",
   "execution_count": 3,
   "metadata": {},
   "outputs": [
    {
     "data": {
      "text/plain": [
       "mean_square_error (generic function with 1 method)"
      ]
     },
     "execution_count": 3,
     "metadata": {},
     "output_type": "execute_result"
    }
   ],
   "source": [
    "function mean_square_error(X, Y, β)\n",
    "    return mean((Y-X*β).^2)\n",
    "end"
   ]
  },
  {
   "cell_type": "code",
   "execution_count": 4,
   "metadata": {},
   "outputs": [
    {
     "data": {
      "text/plain": [
       "generate_X (generic function with 1 method)"
      ]
     },
     "execution_count": 4,
     "metadata": {},
     "output_type": "execute_result"
    }
   ],
   "source": [
    "function generate_X(samples, M)\n",
    "    n = length(samples)\n",
    "    col = reshape(samples, (n, 1))\n",
    "    X = ones(n, 1)\n",
    "    for k in 1:M\n",
    "        X = hcat(X, col.^k)\n",
    "    end\n",
    "    return X\n",
    "end"
   ]
  },
  {
   "cell_type": "code",
   "execution_count": 5,
   "metadata": {},
   "outputs": [
    {
     "data": {
      "image/png": "[encoded data removed]",
      "text/plain": [
       "Figure(PyObject <Figure size 640x480 with 1 Axes>)"
      ]
     },
     "metadata": {},
     "output_type": "display_data"
    }
   ],
   "source": [
    "# n = 10\n",
    "samples_train = 1:10\n",
    "samples_test = 1.5:10.5\n",
    "noise_train = 0.01 * randn(10)\n",
    "noise_test = 0.01 * randn(10)\n",
    "\n",
    "#suppose y = x^3 + 2x^2 + 3x + 4 + eps, so M = 3\n",
    "\n",
    "Y_train = samples_train.^3 + 2*samples_train.^2 + 3*samples_train .+ 4 + noise_train\n",
    "Y_train = reshape(Y_train, (length(Y_train),1))\n",
    "Y_test = samples_test.^3 + 2*samples_test.^2 + 3*samples_test .+ 4 + noise_test\n",
    "Y_test = reshape(Y_test, (length(Y_test),1))\n",
    "\n",
    "err_train = zeros(8)\n",
    "err_test = zeros(8)\n",
    "for M in 1:8\n",
    "    X_train = generate_X(samples_train, M)\n",
    "    X_test = generate_X(samples_test, M)\n",
    "    \n",
    "    beta = linear_regression(X_train, Y_train)\n",
    "    err_train[M] = mean_square_error(X_train, Y_train, beta)\n",
    "    err_test[M] = mean_square_error(X_test, Y_test, beta)\n",
    "end\n",
    "\n",
    "\n",
    "plt.plot(1:8, log.(err_train), \"o-\", label=\"train\")\n",
    "plt.plot(1:8, log.(err_test), \"*-\", label=\"test\")\n",
    "plt.xlabel(L\"$M$\")\n",
    "plt.ylabel(L\"$\\log(err)$\")\n",
    "plt.legend()\n",
    "plt.title(\"Polynomial Regression with Different Orders\");"
   ]
  },
  {
   "cell_type": "markdown",
   "metadata": {},
   "source": [
    "## 5.2 Stochastic Time Series Models"
   ]
  },
  {
   "cell_type": "markdown",
   "metadata": {
    "slideshow": {
     "slide_type": "slide"
    }
   },
   "source": [
    "5.2.1  Auto-regressive models   \n",
    "5.2.2  First-order model    \n",
    "5.2.3  Autocovariance  "
   ]
  },
  {
   "cell_type": "markdown",
   "metadata": {},
   "source": [
    "### 5.2.1 Auto-Regressive Models$\\newcommand{\\Ex}[1]{\\langle #1 \\rangle}$"
   ]
  },
  {
   "cell_type": "markdown",
   "metadata": {
    "slideshow": {
     "slide_type": "subslide"
    }
   },
   "source": [
    "\n",
    "* Widespread use to model stochastic data  \n",
    "\n",
    "\n",
    "* Model is discrete, writing current state as function of previous ones  \n",
    "\n",
    "\n",
    "* An order-p model\n",
    "\n",
    "    $$X_t=c+\\sum_{i=1}^p\\phi_iX_{t-i}+\\epsilon_t$$\n",
    "    \n",
    "    where $\\epsilon_t$ are uncorrelated, normally distributed random numbers with   \n",
    "\n",
    "    $$\\Ex{\\epsilon}=0, \\,\\Ex{\\epsilon^2}=\\sigma_\\epsilon^2.$$\n",
    "\n",
    "\n",
    "* Here we will examine an order-1 model \n",
    "\n",
    "    $$X_t=c+\\phi X_{t-1}+\\epsilon_t$$\n",
    "\n"
   ]
  },
  {
   "cell_type": "markdown",
   "metadata": {},
   "source": [
    "### 5.2.2 First-Order Auto-Regressive Models  "
   ]
  },
  {
   "cell_type": "markdown",
   "metadata": {
    "slideshow": {
     "slide_type": "subslide"
    }
   },
   "source": [
    "* First-order model, where we assume $|\\phi|<1$ \n",
    "\n",
    "$\\hspace{0.8cm}$ $X_t=c+\\phi X_{t-1}+\\epsilon_t~~$ where $~~\\Ex{\\epsilon}=0~$ and $~\\Ex{\\epsilon^2}=\\sigma_\\epsilon^2$.\n",
    "\n",
    "\n",
    "**<font color='red'>Questions:</font>**\n",
    "\n",
    "\n",
    "* Suppose $\\Ex{X} = \\Ex{X_t} = \\Ex{X_{t-1}}$, then what is the mean of $\\Ex{X}$?\n",
    "\n",
    "* What is $\\text{Var}(X)$?\n",
    "\n",
    "* What is the general solution, if the process has always be ongoing?"
   ]
  },
  {
   "cell_type": "markdown",
   "metadata": {
    "slideshow": {
     "slide_type": "subslide"
    }
   },
   "source": [
    "**<font color='green'>Answers:</font>**\n",
    "\n",
    "* For the mean $\\Ex{X_t}=c+\\phi \\Ex{X_{t-1}}$ so   \n",
    "\n",
    "\n",
    "$\\hspace{0.8cm}\\Ex{X}=\\frac{c}{1-\\phi}$    \n",
    "\n",
    "\n",
    "* Useful to introduce $x_t=X_t-\\Ex{X_t}$. Note that  \n",
    "\n",
    "    $$x_t=\\phi x_{t-1}+\\epsilon_t.$$ \n",
    "\n",
    "* $\\text{Var}(X)=\\Ex{x_t^2}=\\phi^2\\Ex{x_{t-1}^2}+\\Ex{\\epsilon_t^2}$ which gives  \n",
    "\n",
    "    $$\\text{Var}(x)=\\frac{\\sigma_\\epsilon^2}{(1-\\phi^2)}.$$\n",
    "\n",
    "* General solution is \n",
    "\n",
    "    $$X_t=\\frac{c}{1-\\phi}+\\sum_{k=0}^\\infty\\phi^k\\epsilon_{t-k}.$$"
   ]
  },
  {
   "cell_type": "markdown",
   "metadata": {},
   "source": [
    "### 5.2.3 Autocovariance"
   ]
  },
  {
   "cell_type": "markdown",
   "metadata": {
    "slideshow": {
     "slide_type": "subslide"
    }
   },
   "source": [
    "* First-order autoregressive model, in steady state.  \n",
    "\n",
    "$\\hspace{0.8cm}$ $X_t=c+\\phi X_{t-1}+\\epsilon_t~~$ where $~~\\Ex{\\epsilon}=0~$ and $~\\Ex{\\epsilon^2}=\\sigma_\\epsilon^2$.\n",
    "\n",
    "* Derived mean, variance and general solution\n",
    "\n",
    "$\\hspace{0.8cm}\\Ex{X}=\\frac{c}{1-\\phi}~$, Var$(x)=\\frac{\\sigma_\\epsilon^2}{(1-\\phi^2)}~$ and $~X_t=\\frac{c}{1-\\phi}+\\sum_{k=0}^\\infty\\phi^k\\epsilon_{t-k}$\n",
    "\n",
    "\n",
    "* Examine temporal structure given by autocovariance: \n",
    "\n",
    "$\\hspace{0.8cm} \\Ex{(X_{t+n}-\\Ex{X})(X_t-\\Ex{X})}=\\sum_{j=0}^\\infty\\sum_{k=0}^\\infty\\phi^{j+k}\\Ex{\\epsilon_{t+n-j}\\epsilon_{t-k}}$\n",
    "\n",
    "\n",
    "* **<font color='red'>Question:</font>** Assume $n>0$. What is the autocovariance?"
   ]
  },
  {
   "cell_type": "markdown",
   "metadata": {
    "slideshow": {
     "slide_type": "subslide"
    }
   },
   "source": [
    "* **<font color='green'>Answer:</font>** \n",
    "\n",
    "\n",
    "* $\\Ex{\\epsilon_{t+n-j}\\epsilon_{t-k}}=\\sigma_\\epsilon^2$ when $j=n+k$, and is zero otherwise.\n",
    "\n",
    "\n",
    "* Because $n>0$ we have $\\Ex{(X_{t+n}-\\Ex{X})(X_t-\\Ex{X})}=\\phi^n\\sum_{k=0}^\\infty\\phi^{2k}\\sigma_\\epsilon^2$\n",
    "\n",
    "\n",
    "* So the autocovariance is \n",
    "\n",
    "\n",
    "$\\hspace{0.8cm} \\Ex{(X_{t+n}-\\Ex{X})(X_t-\\Ex{X})}=\\phi^{|n|}\\frac{\\sigma_\\epsilon^2}{(1-\\phi^2)}$\n",
    "\n",
    "\n",
    "* NB: Check the result for $n<0$ yourself.\n"
   ]
  },
  {
   "cell_type": "markdown",
   "metadata": {},
   "source": [
    "## 5.3 Summary and Additional Questions"
   ]
  },
  {
   "cell_type": "markdown",
   "metadata": {},
   "source": [
    "### Day 5 Basic Time-Series Analysis"
   ]
  },
  {
   "cell_type": "markdown",
   "metadata": {
    "slideshow": {
     "slide_type": "slide"
    }
   },
   "source": [
    "5.1 Curve-fitting     \n",
    "5.2 Stochastic time-series models    \n",
    "5.3 Summary and additional questions "
   ]
  },
  {
   "cell_type": "markdown",
   "metadata": {},
   "source": [
    "### Questions"
   ]
  },
  {
   "cell_type": "markdown",
   "metadata": {},
   "source": [
    "Make sure you have understood and done all the questions in the lectures.\n",
    "\n",
    "Answers to the questions below are to be emailed in for marking by 12noon Thursday 3rd December 2020.    \n",
    "\n",
    "**Q5.3.1** Analysis of exo-planet data  \n",
    "**Q5.3.2** Autocovariance of an autoregressive model  \n",
    "**Q5.3.3** Distribution of sample means for an autoregressive process  "
   ]
  },
  {
   "cell_type": "markdown",
   "metadata": {},
   "source": [
    "#### <font color='red'>Q5.3.1</font> Analysis of Exo-Planet Data"
   ]
  },
  {
   "cell_type": "markdown",
   "metadata": {
    "collapsed": true,
    "slideshow": {
     "slide_type": "subslide"
    }
   },
   "source": [
    "* Download the **exoplanet-data.txt** file from the course website.  \n",
    "* The x-axis is in days, the y-axis is raw light intensity from the star.  \n",
    "* The dips are caused by a planet passing in front of the star.  \n",
    "* It can be assumed that this is a single-planet system.\n",
    "\n",
    "\n",
    "* Some cleaning of the data will be required.\n",
    "\n",
    "\n",
    "* Part (a) Estimate the orbital period of the planet, with a figure showing method.\n",
    "\n",
    "\n",
    "* Part (b) Assume the flux from the star is proportional to the area of the disc it presents to the telescope.  \n",
    "Estimate the ratios of the planetary and solar radii. \n",
    "Provide a figure showing method.\n",
    "\n",
    "\n",
    "* Part (c) Estimate the transit time in days, with a figure showing method.  \n",
    "\n",
    "**NOTE** There is no need to provide ranges for data.\n"
   ]
  },
  {
   "cell_type": "markdown",
   "metadata": {},
   "source": [
    "#### <font color='red'>Q5.3.2</font> Autocovariance of an Autoregressive Model"
   ]
  },
  {
   "cell_type": "markdown",
   "metadata": {
    "collapsed": true,
    "slideshow": {
     "slide_type": "subslide"
    }
   },
   "source": [
    "* Simulate a first order autoregressive model with your parameter choice  \n",
    "for $c$, $\\phi$ and $\\sigma_\\epsilon$ (but with $|\\phi|<1$).\n",
    "\n",
    "\n",
    "* Run the simulation for $5000$ steps and demonstrate that $\\Ex{X}$ and Var$(X)$ are comparable to theory.\n",
    "\n",
    "\n",
    "\n",
    "* Extract the autocovariance from the data.  \n",
    "Provide a plot comparing it to the theoretical prediction.\n"
   ]
  },
  {
   "cell_type": "markdown",
   "metadata": {},
   "source": [
    "#### <font color='red'>Q5.3.3</font> Distribution of Sample Means for an Autoregressive Process  "
   ]
  },
  {
   "cell_type": "markdown",
   "metadata": {
    "collapsed": true,
    "slideshow": {
     "slide_type": "subslide"
    }
   },
   "source": [
    "*  Simulate a first-order autoregressive process for $100,000$ steps with $c=0$, $\\phi=0.9$ and $\\sigma_\\epsilon=2$.  \n",
    "\n",
    "\n",
    "*  Calculate the distribution of sample means in two ways. For the first way, take $10,000$ random samples of $10$ adjacent data points. For the second way, take $10,000$ random samples of $10$ data points each picked from any step of your autoregressive process.  \n",
    "\n",
    "\n",
    "* Plot out the histograms of the sample means for these two cases and examine if they agree with what would be expected from a naive application of the central-limit theorem (you can assume knowledge of the true mean and variance used to generate the autoregressive process). Comment on the differences if any between the two ways of calculating the sample means.  "
   ]
  },
  {
   "cell_type": "code",
   "execution_count": null,
   "metadata": {},
   "outputs": [],
   "source": []
  }
 ],
 "metadata": {
  "celltoolbar": "Slideshow",
  "kernelspec": {
   "display_name": "Julia 1.5.3",
   "language": "julia",
   "name": "julia-1.5"
  },
  "language_info": {
   "file_extension": ".jl",
   "mimetype": "application/julia",
   "name": "julia",
   "version": "1.5.3"
  }
 },
 "nbformat": 4,
 "nbformat_minor": 2
}
