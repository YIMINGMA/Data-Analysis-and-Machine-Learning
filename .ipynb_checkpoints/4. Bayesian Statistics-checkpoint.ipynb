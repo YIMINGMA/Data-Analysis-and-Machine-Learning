{
 "cells": [
  {
   "cell_type": "markdown",
   "metadata": {},
   "source": [
    "# 4. Bayesian Statistics"
   ]
  },
  {
   "cell_type": "code",
   "execution_count": 1,
   "metadata": {
    "slideshow": {
     "slide_type": "skip"
    }
   },
   "outputs": [],
   "source": [
    "using PyPlot\n",
    "using Distributions\n",
    "using HypothesisTests\n",
    "using SpecialFunctions"
   ]
  },
  {
   "cell_type": "markdown",
   "metadata": {
    "slideshow": {
     "slide_type": "slide"
    }
   },
   "source": [
    "4.1 Bayesian approach       \n",
    "4.2 Bayesian versus frequentist   \n",
    "4.3 Additional topics  \n",
    "4.4 Summary and additional questions    "
   ]
  },
  {
   "cell_type": "markdown",
   "metadata": {},
   "source": [
    "## 4.0 Recap of Day 3 Frequentist Statistics"
   ]
  },
  {
   "cell_type": "markdown",
   "metadata": {
    "slideshow": {
     "slide_type": "subslide"
    }
   },
   "source": [
    "* Focus on type-I error rate: $\\alpha=P($reject null$~ |~$null true$ )$\n",
    "\n",
    "\n",
    "* Significance: unlikely event, from point of view of null statistics.\n",
    "\n",
    "\n",
    "* Involves calculating probability of statistics given a hypothesis.\n",
    "\n",
    "\n",
    "* Machinery can be applied to many different tests.\n",
    "\n",
    "\n",
    "* Widespread usage, particularly in biological/medical literature."
   ]
  },
  {
   "cell_type": "markdown",
   "metadata": {},
   "source": [
    "## 4.1 Bayesian Approaches"
   ]
  },
  {
   "cell_type": "markdown",
   "metadata": {
    "slideshow": {
     "slide_type": "slide"
    }
   },
   "source": [
    "4.1.1 Bayesian basics  \n",
    "4.1.2 Likelihood function  \n",
    "4.1.3 Discrete parameter example   \n",
    "4.1.4 Continuous parameter example"
   ]
  },
  {
   "cell_type": "markdown",
   "metadata": {},
   "source": [
    "### 4.1.1 Bayesian Basics"
   ]
  },
  {
   "cell_type": "markdown",
   "metadata": {
    "slideshow": {
     "slide_type": "subslide"
    }
   },
   "source": [
    "* Reminder: Bayes' theorem\n",
    "\n",
    "$\\hspace{0.8cm}$ $P(A|B)=\\frac{P(B|A)P(A)}{P(B)}$\n",
    "\n",
    "\n",
    "* Apply this to data $D$ and a hypothesis $H$.  \n",
    "Allows to update beliefs using information from experiment:\n",
    "\n",
    "$\\hspace{0.8cm}$ $P(H|D)=\\frac{P(D|H)P(H)}{P(D)}~~$ or $~~P(H|D)\\propto P(D|H)P(H)$\n",
    "\n",
    "\n",
    "* $P(H)$ is **prior** belief on the hypothesis $H$  \n",
    "* $P(D|H)$ is called the **likelihood**: probability data given hypothesis.  \n",
    "* $P(D)$ is probability of data - a normalisation constant.\n",
    " "
   ]
  },
  {
   "cell_type": "markdown",
   "metadata": {},
   "source": [
    "### 4.1.2 Likelihood"
   ]
  },
  {
   "cell_type": "markdown",
   "metadata": {
    "slideshow": {
     "slide_type": "subslide"
    }
   },
   "source": [
    "* For independent data points, update as a product.\n",
    "\n",
    "$\\hspace{0.8cm}$ $P(H|\\{D_k\\})\\propto \\left[\\prod_kP(D_k|H)\\right]P(H)$\n",
    "\n",
    "* Not always simple to calculate the likelihood $P(D_k|H)$  \n",
    "\n",
    "\n",
    "* If there are two hypothesis $H_1$, $H_2$ then we can normalise this as follows\n",
    "\n",
    "\n",
    "$\\hspace{0.8cm}$ $P(H_1|\\{D_k\\})=\\frac{1}{{\\cal N}}\\left[\\prod_kP(D_k|H_1)\\right]P(H_1)$  \n",
    "$\\hspace{0.8cm}$ $P(H_2|\\{D_k\\})=\\frac{1}{{\\cal N}}\\left[\\prod_kP(D_k|H_2)\\right]P(H_2)$\n",
    "\n",
    "\n",
    "* where ${ \\cal N}=\\left[\\prod_kP(D_k|H_1)\\right]P(H_1) + \\left[\\prod_kP(D_k|H_2)\\right]P(H_2)$"
   ]
  },
  {
   "cell_type": "markdown",
   "metadata": {},
   "source": [
    "### 4.1.3 Discrete Parameter Examples"
   ]
  },
  {
   "cell_type": "markdown",
   "metadata": {
    "slideshow": {
     "slide_type": "subslide"
    }
   },
   "source": [
    "* Consider a game where one of two coins is used:  \n",
    "one is fair $p_1=0.5$ the other is biased for heads $p_2=0.7$\n",
    "\n",
    "\n",
    "* From experience the biased coin is used 20$\\%$ of the time.\n",
    "\n",
    "\n",
    "* We will associate the hypothesis $C_1$ and $C_2$ with the two coins.\n",
    "\n",
    "\n",
    "* A coin is chosen and you see the following sequence: h, t, h, h, h, h, t, h\n",
    "\n",
    "\n",
    "* What is the prior distribution?  \n",
    "$P(C_1)=0.8$ and $P(C_2)=0.2$  \n",
    "\n",
    "\n",
    "* What are the two likelihoods for the first flip?\n",
    "$P($h$|C)=p~$ so that $~P($h$|C_1)=0.5~$ and $~P($h$|C_2)=0.7$.\n",
    "\n",
    "\n",
    "* What is the posterior distribution after the first flip? \n",
    "$P(C_1|$h$)=\\frac{0.5\\times0.8}{0.5\\times0.8+0.7\\times0.2}=0.741~$ and $~P(C_1|$h$)=\\frac{0.7\\times0.2}{0.5\\times0.8+0.7\\times0.2}=0.259$\n",
    "\n",
    "\n",
    "**<font color='red'>Question.</font>** What is the posterior distribution at the end of the sequence?"
   ]
  },
  {
   "cell_type": "markdown",
   "metadata": {},
   "source": [
    "$P(C_1 | \\text{data}) \\propto P(\\text{data} | C_1) P(C_1) = \\left( \\frac{1}{2} \\right)^8 \\times 0.8 = 0.003125.$\n",
    "\n",
    "$P(C_2 | \\text{data}) \\propto P(\\text{data} | C_2) P(C_2) = (0.7)^6 \\times (0.3)^2 \\times 0.2 = 0.002117682.$\n",
    "\n",
    "So $P(C_1 | \\text{data}) = \\frac{0.003125}{0.003125 + 0.002117682} = 0.59606895859$ and $P(C_2 | \\text{data}) = \\frac{0.002117682}{0.003125 + 0.002117682} = 0.4039310414$."
   ]
  },
  {
   "cell_type": "markdown",
   "metadata": {},
   "source": [
    "**<font color='red'>Question.</font>** What would be the distribution if you had no prior knowledge?"
   ]
  },
  {
   "cell_type": "markdown",
   "metadata": {},
   "source": [
    "Just change both $0.8$ and $0.2$ to $0.5$ in the solution above. New posteriors are $P(C_1|\\text{data})=0.269$ and $P(C_2|\\text{data})=0.731$\n",
    "\n",
    "*Conclusion: more probable to be the biased coin.*"
   ]
  },
  {
   "cell_type": "markdown",
   "metadata": {},
   "source": [
    "### 4.1.4 Continuous Parameter Examples"
   ]
  },
  {
   "cell_type": "markdown",
   "metadata": {
    "slideshow": {
     "slide_type": "subslide"
    }
   },
   "source": [
    "* A coin is flipped $N$ times with $n$ heads.\n",
    "\n",
    "\n",
    "* What can we infer about its bias? Mean gives $\\hat{p}=n/N$. What else?\n",
    "\n",
    "\n",
    "* Let's consider that the unknown parameter $p$ is a random variable.\n",
    "\n",
    "\n",
    "* Let $f_0(p)$ be the distribution of our prior view on $p$.  \n",
    "* Let ${ \\cal L}(\\text{data}|p)$ be the likelihood (probability of data given $p$).  \n",
    "* Let $f(p|\\text{data})$ be the posterior distribution on $p$.\n",
    "\n",
    "\n",
    "* From Bayes  $f(p|\\text{data})=\\frac{1}{ \\cal N}{ \\cal L}(\\text{data}|p)f_0(p)$ where ${\\cal N}= P(\\text{data})= \\int_0^1 d p'{ \\cal L}(\\text{data}|p')f_0(p')$.\n",
    "\n",
    "\n",
    "**<font color='red'>Question.</font>** What is ${ \\cal L}(\\text{data}|p)$?"
   ]
  },
  {
   "cell_type": "markdown",
   "metadata": {},
   "source": [
    "$\\mathcal{L}(\\text{data} | p) = \\tbinom{N}{n} p^n \\times (1-p)^{N-n}$."
   ]
  },
  {
   "cell_type": "markdown",
   "metadata": {},
   "source": [
    "**<font color='red'>Question.</font>** For a coin with a $0.7$ heads bias generate $20$ coin flips and   \n",
    "update your prior. Use two priors: one uniform the other $\\propto p(1-p).$   \n",
    "**[HINT]** Discretise the range of $p$ and approximate the integrals as sums."
   ]
  },
  {
   "cell_type": "code",
   "execution_count": 2,
   "metadata": {
    "slideshow": {
     "slide_type": "subslide"
    }
   },
   "outputs": [
    {
     "name": "stdout",
     "output_type": "stream",
     "text": [
      "Number of heads=10 out of 20 coin flips\n"
     ]
    }
   ],
   "source": [
    "# set up p\n",
    "dp = 0.01\n",
    "p = collect(dp/2: dp: 1.0-dp/2)\n",
    "np = length(p)\n",
    "\n",
    "# set up the prior\n",
    "f0 = ones(np); # a flat prior\n",
    "f1 = p .* (1 .- p) / beta(2,2); # non-flat prior\n",
    "\n",
    "# coin flips\n",
    "truep = 0.7\n",
    "N = 20\n",
    "n = sum(1 * (rand(N).<truep))\n",
    "println(\"Number of heads=$n out of $N coin flips\")\n",
    "\n",
    "# likelihood and normalisation\n",
    "L = binomial(N, n) * (p.^n) .* (1 .- p).^(N-n)\n",
    "NL0 = sum(L.*f0*dp)\n",
    "NL1 = sum(L.*f1*dp)\n",
    "\n",
    "# posterior\n",
    "fpost0 = L.*f0/NL0;\n",
    "fpost1 = L.*f1/NL1;"
   ]
  },
  {
   "cell_type": "code",
   "execution_count": 3,
   "metadata": {
    "slideshow": {
     "slide_type": "subslide"
    }
   },
   "outputs": [
    {
     "data": {
      "image/png": "[encoded data removed]",
      "text/plain": [
       "Figure(PyObject <Figure size 500x400 with 1 Axes>)"
      ]
     },
     "metadata": {},
     "output_type": "display_data"
    }
   ],
   "source": [
    "# plot out the results\n",
    "figure(figsize=(5,4))\n",
    "plot(p,fpost0,\"g\",p,f0,\"g:\")\n",
    "xlabel(\"p\")\n",
    "plot(p,fpost1,\"b\",p,f1,\"b:\"); "
   ]
  },
  {
   "cell_type": "markdown",
   "metadata": {},
   "source": [
    "## 4.2 Bayesian vs Frequentist "
   ]
  },
  {
   "cell_type": "markdown",
   "metadata": {
    "slideshow": {
     "slide_type": "slide"
    }
   },
   "source": [
    "4.2.1 Berger and Berry (1988)  \n",
    "4.2.2 p-value depends on the intent  "
   ]
  },
  {
   "cell_type": "markdown",
   "metadata": {},
   "source": [
    "### 4.2.1 Berger and Berry (1988)"
   ]
  },
  {
   "cell_type": "markdown",
   "metadata": {
    "slideshow": {
     "slide_type": "subslide"
    }
   },
   "source": [
    "* Frequentist approaches are often justified as avoiding subjective/unknown prior.\n",
    "\n",
    "\n",
    "* [Influencial paper](http://www2.hawaii.edu/~cbaajwe/Ph.D.Seminar/BergerandBerry1988.pdf) (600+ citations) challenging objectivity of frequentist approach.\n",
    "\n",
    "\n",
    "\n",
    "**The experiment**\n",
    "* Test if vitamin C (C) has an effect on cold symptoms versus a placebo (P)\n",
    "* 17 identical twins, one gets C the other P\n",
    "* Results: 13 taking C get better first, 4 taking P get better first.\n",
    "* What is the significance of this result?\n",
    "\n",
    "\n",
    "* Need to calculate the p-value and compare with, say $5\\%$ or $1\\%$ levels.  \n",
    "* What is the distribution under the null hypothesis (no effect of vitamin C)?    \n",
    "$\\hspace{0.8cm} P(C=k|H_0)={{17}\\choose{k}}(0.5)^{17}$"
   ]
  },
  {
   "cell_type": "code",
   "execution_count": 5,
   "metadata": {
    "slideshow": {
     "slide_type": "-"
    }
   },
   "outputs": [
    {
     "data": {
      "image/png": "[encoded data removed]",
      "text/plain": [
       "Figure(PyObject <Figure size 500x300 with 1 Axes>)"
      ]
     },
     "metadata": {},
     "output_type": "display_data"
    }
   ],
   "source": [
    "k = collect(0:17)\n",
    "Pk = pdf.(Binomial(17,0.5),k);\n",
    "figure(figsize=(5,3));\n",
    "bar(k,Pk)\n",
    "xlabel(\"twins where vitamin C better than placebo\");"
   ]
  },
  {
   "cell_type": "markdown",
   "metadata": {
    "slideshow": {
     "slide_type": "-"
    }
   },
   "source": [
    "* The result was 13, so as extreme is $k=0,1,2,3,4$ and $13,14,15,16,17$.  \n",
    "\n",
    "* The $p$-value is $2\\sum_{k=0}^4P_k=0.049$ and just within the $5\\%$ significance range.\n",
    "\n"
   ]
  },
  {
   "cell_type": "markdown",
   "metadata": {},
   "source": [
    "### 4.2.2 $p$-value Depends on the Intent  "
   ]
  },
  {
   "cell_type": "markdown",
   "metadata": {
    "slideshow": {
     "slide_type": "subslide"
    }
   },
   "source": [
    "\n",
    "* This seems objective, but what if another experiment was envisaged?   \n",
    "\n",
    "\n",
    "* **For example:**   \n",
    "Stop when you have at least 4 where C is better and 4 where P is better.\n",
    "\n",
    "\n",
    "* Imagine the $4$-th P occured on the $17$-th trial, generating an identical data set.  \n",
    "\n",
    "\n",
    "* The null distribution will be very different.  \n",
    "\n",
    "\n",
    "* Hopefully it won't affect the $p$-value... \n",
    "\n",
    "\n",
    "* **<font color='red'>Question.</font>** Check the $p$-value for this experiment by generating artifical data.  \n",
    "The statistic now is the number of trials (twins). \n"
   ]
  },
  {
   "cell_type": "code",
   "execution_count": 6,
   "metadata": {
    "slideshow": {
     "slide_type": "subslide"
    }
   },
   "outputs": [],
   "source": [
    "# to finish at k twins, but have three with C better so far and then the last trial as C\n",
    "# or the same for P. \n",
    "# this looks like (k-1)!/(3!(k-1)!)*p^3(1-p)^(k-4)*p + same again\n",
    "# which is just Binomial(n=k-1,p=0.5) evaluated with an argument of 3\n",
    "\n",
    "x = 1:30\n",
    "y = zeros(30)\n",
    "for k ∈ 8:30\n",
    "    y[k]=pdf(Binomial(k-1,0.5),3)\n",
    "end"
   ]
  },
  {
   "cell_type": "code",
   "execution_count": 7,
   "metadata": {},
   "outputs": [
    {
     "data": {
      "image/png": "[encoded data removed]",
      "text/plain": [
       "Figure(PyObject <Figure size 1200x200 with 1 Axes>)"
      ]
     },
     "metadata": {},
     "output_type": "display_data"
    }
   ],
   "source": [
    "# Note. My figure differs from Berry and Berger (1988). \n",
    "# I think their first two bars are transposed (a graphical typo) - you can check this!\n",
    "# In any case, the p-value comes out the same.\n",
    "figure(figsize=(12,2))\n",
    "bar(x,y)\n",
    "xlabel(\"twins used\");"
   ]
  },
  {
   "cell_type": "code",
   "execution_count": 8,
   "metadata": {
    "slideshow": {
     "slide_type": "skip"
    }
   },
   "outputs": [
    {
     "name": "stdout",
     "output_type": "stream",
     "text": [
      "pvalue=2.1%\n"
     ]
    }
   ],
   "source": [
    "pvalue=sum(y[17:end])\n",
    "println(\"pvalue=$(round(pvalue*100;digits=1))%\");"
   ]
  },
  {
   "cell_type": "markdown",
   "metadata": {
    "slideshow": {
     "slide_type": "-"
    }
   },
   "source": [
    "* Now the p-value is now 2.1% !\n",
    "\n",
    "\n",
    "* Differs from the 4.9% from other experiment - but data is identical. \n",
    "\n",
    "\n",
    "* What if the experimentalist quit after taking the measurements, without explaining what the experimental design was? Could the data be used?\n",
    "\n",
    "\n",
    "* Hard to justify scientifically... \n"
   ]
  },
  {
   "cell_type": "markdown",
   "metadata": {},
   "source": [
    "## 4.3 Additional Topics"
   ]
  },
  {
   "cell_type": "markdown",
   "metadata": {
    "slideshow": {
     "slide_type": "slide"
    }
   },
   "source": [
    "4.3.1 Conjugate priors  \n",
    "4.3.2 Credible intervals  "
   ]
  },
  {
   "cell_type": "markdown",
   "metadata": {},
   "source": [
    "### 4.3.1 Conjugate Priors"
   ]
  },
  {
   "cell_type": "markdown",
   "metadata": {
    "slideshow": {
     "slide_type": "subslide"
    }
   },
   "source": [
    "* For the coin with the unknown bias we discretized the space of $p$.  \n",
    "* This might get numerically expensive with many variables (bins).\n",
    "* Numerical integration can be avoided if there is a congugate prior.  \n",
    "* Allows for a low-dimensional parameterisation of a continuous prior.\n",
    "\n",
    "**Example**  \n",
    "\n",
    "* The conjugate prior to the Binomial distribution is a Beta distribution $p_{\\alpha\\beta}$  \n",
    "where $p_{\\alpha\\beta}=p^{\\alpha-1}(1-p)^{\\beta-1}/B(\\alpha,\\beta)$ and $B(\\alpha,\\beta)=\\Gamma(\\alpha)\\Gamma(\\beta)/\\Gamma(\\alpha+\\beta)$\n",
    "\n",
    "\n",
    "* Imagine we start with a Beta-distribution prior parameterised by $\\alpha$ and $\\beta$.  \n",
    "\n",
    "**<font color='red'>Question:</font>** Show that if a coin is flipped $n_h+n_t$ times with $n_h$ heads and $n_t$ tails,   \n",
    "the posterior is a Beta distribution with $\\alpha'=\\alpha+n_t$ and $\\beta'=\\beta+n_h$."
   ]
  },
  {
   "cell_type": "markdown",
   "metadata": {},
   "source": [
    "$f(p| \\text{data}) \\propto \\tbinom{n_h + n_t}{n_h} p^{n_h} (1-p)^{n_t} \\times p^{\\alpha - 1} (1 - p)^{\\beta - 1} / B(\\alpha, \\beta) \\propto p^{\\alpha + n_h - 1} (1-p)^{\\beta + n_t - 1}$.\n",
    "\n",
    "By observing the p.d.f. of beta distribution, we know the posterior follows $\\text{Beta}(\\alpha + n_h, \\beta + n_t)$."
   ]
  },
  {
   "cell_type": "markdown",
   "metadata": {},
   "source": [
    "### 4.3.2 Credible Intervals"
   ]
  },
  {
   "cell_type": "markdown",
   "metadata": {
    "slideshow": {
     "slide_type": "subslide"
    }
   },
   "source": [
    "* These are analagous to the frequentist confidence intervals.\n",
    "\n",
    "\n",
    "* They have a more direct interpretation using the posterior distribution.\n",
    "\n",
    "\n",
    "* There is some choice. A 95% credible interval could be:  \n",
    "(1) A distribution, with 2.5% discounted on each tail.  \n",
    "(2) The shortest interval containing 95% of the density    \n",
    "\n",
    "\n",
    "* Example for the coin with the unknown bias (using a Beta distribution)."
   ]
  },
  {
   "cell_type": "code",
   "execution_count": 5,
   "metadata": {},
   "outputs": [
    {
     "data": {
      "image/png": "[encoded data removed]",
      "text/plain": [
       "Figure(PyObject <Figure size 500x300 with 1 Axes>)"
      ]
     },
     "metadata": {},
     "output_type": "display_data"
    }
   ],
   "source": [
    "# The case with 2.5% discounted on each tail\n",
    "\n",
    "dp = 0.01\n",
    "p = collect(dp/2: dp: 1.0-dp/2)\n",
    "a,b = 12,7\n",
    "\n",
    "f = pdf.(Beta(a,b),p);\n",
    "p1 = invlogcdf.(Beta(a,b),log(0.025))\n",
    "p2 = invlogcdf.(Beta(a,b),log(0.975))\n",
    "pp = p1:dp:p2\n",
    "ff = pdf.(Beta(a,b),pp)\n",
    "\n",
    "figure(figsize=(5,3))\n",
    "plot(p,f); xlabel(\"p\"); title(\"posterior(p | data). 95% credible intervals\")\n",
    "fill_between(pp,0,ff,color=\"gold\"); grid();"
   ]
  },
  {
   "cell_type": "markdown",
   "metadata": {},
   "source": [
    "## 4.4 Summary and additional questions\n"
   ]
  },
  {
   "cell_type": "markdown",
   "metadata": {},
   "source": [
    "### Day 4 Bayesian Statistics"
   ]
  },
  {
   "cell_type": "markdown",
   "metadata": {
    "slideshow": {
     "slide_type": "slide"
    }
   },
   "source": [
    "4.4.1 Frequentist versus Bayesian       \n",
    "4.4.2 Likelihood tests  \n",
    "4.4.3 Bayesian statistics   \n",
    "4.4.4 Summary and additional questions    "
   ]
  },
  {
   "cell_type": "markdown",
   "metadata": {},
   "source": [
    "## Questions"
   ]
  },
  {
   "cell_type": "markdown",
   "metadata": {},
   "source": [
    "Make sure you have understood and done all the questions in the lectures.\n",
    "\n",
    "The questions below are to be emailed in for marking by 12noon Thursday 26th November 2020 (together with those from yesterday).   \n",
    "\n",
    "**Q4.4.1** Maximum likelihood: normal distribution  \n",
    "**Q4.4.2** Posterior for normal distribution    \n",
    "**Q4.4.3** Shortest credible interval  "
   ]
  },
  {
   "cell_type": "markdown",
   "metadata": {
    "collapsed": true,
    "slideshow": {
     "slide_type": "subslide"
    }
   },
   "source": [
    "## <font color='red'>Q4.4.1</font>  Maximum likelihood: normal distribution\n",
    "\n",
    "* Consider a sample $X_1\\cdots X_n$ from a normal distribution.\n",
    "\n",
    "* What is the likelihood they were drawn from a distribution with parameters  \n",
    "mean $\\mu$ and variance $\\sigma^2$.\n",
    "\n",
    "* What values $\\hat{\\mu}$ and $\\hat{\\sigma}^2$ maximise this likelihood? \n",
    "\n",
    "* Is $\\hat{\\sigma}^2$ a biased or unbiased estimator?"
   ]
  },
  {
   "cell_type": "markdown",
   "metadata": {
    "collapsed": true,
    "slideshow": {
     "slide_type": "subslide"
    }
   },
   "source": [
    "\n",
    "## <font color='red'>Q4.4.2</font> Posterior for normal distribution \n",
    "\n",
    "* For some choice of $\\mu$ and $\\sigma^2$, generate $n=5$ normally distributed random numbers.\n",
    "\n",
    "\n",
    "* Using a flat prior, calculate the posterior density $p(\\mu,\\sigma|X_1\\cdots X_n)$.  \n",
    "\n",
    "\n",
    "* Note this is a two-dimensional density. You will have to create a 2D grid of data points.\n",
    "\n",
    "\n",
    "* Plot the 2D distribution.\n",
    "\n",
    "\n",
    "* Calculate the maximum-likelihood parameters $\\hat{\\mu}$ and $\\hat{\\sigma}^2$ using your formula from Q4.1. Confirm that their coordinates coincide with the peak of the posterior distribution.\n",
    "\n",
    "\n",
    "* Use the posterior distribution to calculate the marginal distributions for $\\mu$ and $\\sigma$ and plot these. Do their peaks also coincide with $\\hat{\\mu}$ and $\\hat{\\sigma}^2$?"
   ]
  },
  {
   "cell_type": "markdown",
   "metadata": {
    "slideshow": {
     "slide_type": "subslide"
    }
   },
   "source": [
    "## <font color='red'>Q4.4.3</font> Shortest credible interval \n",
    "\n",
    "*  In section 4.3.2 the credible interval for a Beta distribution with $a=12$ and $b=7$ was calculated using a 2.5% discount on each tail. Correct to three decimal places, the range was $x=0.410\\to0.827$.  \n",
    "\n",
    "\n",
    "* Another way of calculating the 95% credible interval is to pick the shortest range that includes 95% of the distribution. What are the values of $x$ on either side of this range, correct to three decimal places? Confirm this range is slightly shorter than the 2.5% discounted one.  "
   ]
  },
  {
   "cell_type": "code",
   "execution_count": null,
   "metadata": {},
   "outputs": [],
   "source": []
  }
 ],
 "metadata": {
  "celltoolbar": "Slideshow",
  "kernelspec": {
   "display_name": "Julia 1.5.3",
   "language": "julia",
   "name": "julia-1.5"
  },
  "language_info": {
   "file_extension": ".jl",
   "mimetype": "application/julia",
   "name": "julia",
   "version": "1.5.3"
  },
  "rise": {
   "enable_chalkboard": true,
   "scroll": true
  }
 },
 "nbformat": 4,
 "nbformat_minor": 2
}
