{
 "cells": [
  {
   "cell_type": "markdown",
   "metadata": {},
   "source": [
    "# 1. Basic Probability"
   ]
  },
  {
   "cell_type": "code",
   "execution_count": 1,
   "metadata": {
    "scrolled": true,
    "slideshow": {
     "slide_type": "skip"
    }
   },
   "outputs": [],
   "source": [
    "using Plots\n",
    "using Distributions\n",
    "using SpecialFunctions\n",
    "using LaTeXStrings\n",
    "using Statistics\n",
    "using Random\n",
    "Random.seed!(1234)\n",
    "\n",
    "pyplot();"
   ]
  },
  {
   "cell_type": "markdown",
   "metadata": {},
   "source": [
    "1.1 Probability primer  \n",
    "1.2 Common distributions  \n",
    "1.3 Distributions continued  \n",
    "1.4 Characteristic functions  \n",
    "1.5 Summary and additional questions"
   ]
  },
  {
   "cell_type": "markdown",
   "metadata": {},
   "source": [
    "## 1.1 Probability Primer"
   ]
  },
  {
   "cell_type": "markdown",
   "metadata": {
    "slideshow": {
     "slide_type": "slide"
    }
   },
   "source": [
    "1.1.1 Rules of probability  \n",
    "1.1.2 Discrete and continuous distributions  \n",
    "1.1.3 Moments and cumulants   \n",
    "1.1.4 Cumulative distributions  \n",
    "1.1.5 Exponential distribution example"
   ]
  },
  {
   "cell_type": "markdown",
   "metadata": {},
   "source": [
    "### 1.1.1 Rules of Probability"
   ]
  },
  {
   "cell_type": "markdown",
   "metadata": {
    "slideshow": {
     "slide_type": "subslide"
    }
   },
   "source": [
    "* **Fundamental convention**. For all non-overlapping events $\\sum_{\\{A\\}}P(A)=1$  \n",
    "\n",
    "\n",
    "* **Positivity**. Probabilities are positive and so $0\\leq P(A) \\leq 1$  \n",
    "\n",
    "\n",
    "* **Union**.  $P(A\\cup B)=P(A)+P(B)-P(A\\cap B)$  \n",
    "\n",
    "\n",
    "* **Mutual exclusivity**. $P(A \\cap B)=0$ if $A$ and $B$ are disjoint.\n",
    "\n",
    "\n",
    "* **Product rule and conditionality**.  $P(A \\cap B)=P(A|B)P(B)$, provided that $P(B) \\neq 0$.\n",
    "\n",
    "\n",
    "* **Sum rule**. $P(A)=\\sum_{\\{B\\}}P(A|B)P(B)$ over all non-overlapping events $\\{B\\}$   \n",
    "\n",
    "\n",
    "* **Independence**.  $P(A|B)=P(A)$ so that $P(A\\cap B)=P(A)P(B)$  \n",
    "\n",
    "\n",
    "* **Bayes Rule**. $P(A|B)=\\frac{P(B|A)P(A)}{P(B)}$   \n"
   ]
  },
  {
   "cell_type": "markdown",
   "metadata": {},
   "source": [
    "#### 1.1.1.1  <font color='red'>Question:</font> A Simple Example   "
   ]
  },
  {
   "cell_type": "markdown",
   "metadata": {
    "slideshow": {
     "slide_type": "subslide"
    }
   },
   "source": [
    "A political party runs social-media campaigns in half of all the districts that they have a candidate up for election. \n",
    " \n",
    "Media: $A$ advert $\\sim\\!A$ no-ad    \n",
    "Result: $B$ won or $\\sim\\!B$ lost     \n",
    "\n",
    "|  $~$   | advert | no-ad |\n",
    "| --- | :----  |:------ |\n",
    "| **won**  | 4/10 |2/10 |\n",
    "| **lost** | 1/10 | 3/10 |\n",
    "\n",
    "* What are $P($advert$)$, $P($no-ad$)$, $P($won$)$ and $P($lost$)$ ?   \n",
    "\n",
    "* What is $P($won$~ |~ $advert$)$ ?  \n",
    "\n",
    "* What is $P($no-ad$~ | ~$lost$)$ ?  \n",
    "\n",
    "* Did the advert have an effect?"
   ]
  },
  {
   "cell_type": "markdown",
   "metadata": {},
   "source": [
    "#### 1.1.1.2 <font color='green'>Answer:</font> A Simple Example   "
   ]
  },
  {
   "cell_type": "markdown",
   "metadata": {},
   "source": [
    "\n",
    "|  $~$   | advert | no-ad |\n",
    "| --- | :----  |:------ |\n",
    "| **won**  | 4/10 |2/10 |\n",
    "| **lost** | 1/10 | 3/10 |\n",
    "\n",
    "\n",
    "* $P($advert$)=5/10$, $P($no-ad$)=5/10$, $P($won$)=6/10$ and $P($lost$)=4/10$  \n",
    "\n",
    "\n",
    "* $P($won$~ |~ $advert$)=4/5$ calculated from $P($won$~ \\cap ~ $advert$)/P($advert$)$  \n",
    "\n",
    "\n",
    "* What is $P($no-ad$~ | ~$lost$)=3/4$. Calculate this using $P($no-ad$~ \\cap~ $lost$)/P($lost$)$\n",
    "\n",
    "\n",
    "* Did the adverts have an effect? Yes $P($won$ ~\\cap ~$advert$)\\neq P($won$)P($advert$)$"
   ]
  },
  {
   "cell_type": "markdown",
   "metadata": {},
   "source": [
    "### 1.1.2 Discrete and Continuous Distributions"
   ]
  },
  {
   "cell_type": "markdown",
   "metadata": {
    "slideshow": {
     "slide_type": "subslide"
    }
   },
   "source": [
    "Single-variable events can be labelled with a \n",
    "* **discrete** label $k$ for a countable number of states \n",
    "* **continuous** label $x$ for a density of states   \n",
    "\n",
    "Discrete states have a probability $P(k)$ \n",
    "* With summation rule $1=\\sum_{\\{k\\}}P(k)$\n",
    "* Expectation of a function $\\langle h(k)\\rangle=\\sum_{\\{k\\}}h(k)P(k)$\n",
    "\n",
    "Continuous states have a probability density $f(x)$ where $f(x)dx$ is the probability that $X$ is between $x$ and $x+dx$.\n",
    "* Integrate to unity $1=\\int dx f(x)$ and units are $1/[x]$\n",
    "* Expectation of a function $\\langle h(x)\\rangle=\\int dx h(x)f(x)$\n"
   ]
  },
  {
   "cell_type": "markdown",
   "metadata": {},
   "source": [
    "### 1.1.3 Moments and Cumulants    "
   ]
  },
  {
   "cell_type": "markdown",
   "metadata": {
    "slideshow": {
     "slide_type": "subslide"
    }
   },
   "source": [
    "* Common expectations are moments: $\\langle x\\rangle$, $\\langle x^2\\rangle$, $\\langle x^3\\rangle$, $\\cdots$.  \n",
    "\n",
    "\n",
    "* Moment generating function $M_x(t)=\\langle e^{tx} \\rangle=1+\\frac{t\\langle x \\rangle }{2}+\\frac{t^2\\langle x^2 \\rangle}{2!} + \\cdots$.\n",
    "\n",
    "\n",
    "* Cumulants generating function $K_x(t)=\\log M_x(t)$\n",
    "\n",
    "\n",
    "* $K_x(t)=\\log \\langle e^{tx} \\rangle =\\mu t + \\frac{t^2\\sigma^2}{2!} + \\cdots$ where $\\mu=\\langle x \\rangle$ is the mean and $\\sigma^2=\\langle x^2 \\rangle$-$\\langle x \\rangle^2$ the variance.  \n",
    "\n",
    "\n",
    "* Additivity of cumulants for sums of independent random variables. For $z=x+y$  \n",
    "\n",
    "$\\hspace{8mm}K_z(t)=\\log \\langle e^{t(x+y)} \\rangle =\\log \\langle e^{tx} \\rangle\\langle e^{ty} \\rangle=\\log\\langle e^{tx} \\rangle + \\log\\langle e^{ty} \\rangle=K_x(t)+K_y(t)$\n",
    "\n",
    "\n",
    "* So $\\mu_z=\\mu_x+\\mu_y$ and $\\sigma^2_z=\\sigma^2_x+\\sigma^2_y$ etc.  \n"
   ]
  },
  {
   "cell_type": "markdown",
   "metadata": {},
   "source": [
    "### 1.1.4 Cumulative Distributions"
   ]
  },
  {
   "cell_type": "markdown",
   "metadata": {
    "slideshow": {
     "slide_type": "subslide"
    }
   },
   "source": [
    "* The cumulative distribution $F(x)$ is defined as the probability that the variable is less than or equal to $x$ so that\n",
    "\n",
    "$\\hspace{0.8cm}$ $F(x)=P(X\\leq x)$\n",
    "\n",
    "* Maps both probabilities and densities onto the range $0$ and $1$\n",
    "\n",
    "$\\hspace{0.8cm}$ $F(x)=\\int_{-\\infty}^xf(x)dx$\n",
    "\n",
    "* Useful for generating random numbers from any distribution using standard uniform randoms.\n",
    "\n",
    "$\\hspace{0.8cm}$ $F=g(X)$ $~$ can be inverted to give $~$ $X=g^{-1}(F)$\n",
    "\n",
    "* Return to this later"
   ]
  },
  {
   "cell_type": "markdown",
   "metadata": {},
   "source": [
    "#### 1.1.4.1 <font color='red'>Question:</font> An Exponential Distribution Example"
   ]
  },
  {
   "cell_type": "markdown",
   "metadata": {
    "slideshow": {
     "slide_type": "subslide"
    }
   },
   "source": [
    "Example: Exponentially distributed random numbers obey $f(x)=\\theta(x)e^{-x/a}/a$ where $\\theta(x)$ is the Heaviside function.   \n",
    "\n",
    "\n",
    "* What is the mean?\n",
    "\n",
    "\n",
    "* What is the variance?\n",
    "\n",
    "\n",
    "* What is the cumulative distribution?\n",
    "\n",
    "\n",
    "* Plot the density and cumulative distributions for $a=1.5$, one above the other, and label axes.\n"
   ]
  },
  {
   "cell_type": "markdown",
   "metadata": {},
   "source": [
    "#### 1.1.4 <font color='green'>Answer:</font> An Exponential Distribution Example"
   ]
  },
  {
   "cell_type": "markdown",
   "metadata": {},
   "source": [
    "By performing integration by parts, we hav\n",
    "\n",
    "$$\n",
    "\\begin{align*}\n",
    "\\mathbb{E} [X] = & \\int_{-\\infty}^\\infty \\frac{x}{a} \\theta (x)  e^{-\\frac{x}{a}} dx \\\\ \n",
    "= & \\int_0^\\infty \\frac{x}{a} e^{-\\frac{x}{a}} dx \\\\ \n",
    "= & \\int_0^\\infty x e^{- \\frac{x}{a}} d \\frac{x}{a} \\\\ \n",
    "= & a \\int_0^\\infty \\frac{x}{a} e^{-\\frac{x}{a}} d \\frac{x}{a} \\\\ \n",
    "= & a \\int_0^\\infty y e^{-y} dy \\\\ \n",
    "= & -a \\int_0^\\infty y de^{-y} \\\\ \n",
    "= & -a \\left( y e^{-y} |_0^\\infty - \\int_0^\\infty e^{-y} dy \\right) \\\\ \n",
    "= & -a (-1) \\\\\n",
    "= & a.\n",
    "\\end{align*}\n",
    "$$\n",
    "\n",
    "Similarly\n",
    "\n",
    "$$\n",
    "\\mathbb{E}[X^2] =  \\int_{-\\infty}^\\infty x^2 \\theta(x) e^{-\\frac{x}{a}} = 2a^2,\n",
    "$$\n",
    "\n",
    "so \n",
    "\n",
    "$$\n",
    "\\mathbb{Var}[X] = \\mathbb{E}[X^2] - \\mathbb{E}[X]^2 = a^2.\n",
    "$$\n",
    "\n",
    "As for the cumulative distribution function,\n",
    "\n",
    "$$\n",
    "F(x) = \\int^x_{-\\infty} \\theta(t) e^{-\\frac{t}{a}} \\frac{1}{a} dt =\n",
    "\\begin{cases}\n",
    "0, \\qquad & x \\le 0 \\\\ \n",
    "1 - e^{-\\frac{x}{a}}, & x > 0\n",
    "\\end{cases}.\n",
    "$$"
   ]
  },
  {
   "cell_type": "code",
   "execution_count": 2,
   "metadata": {},
   "outputs": [
    {
     "data": {
      "image/png": "[encoded data removed]"
     },
     "execution_count": 2,
     "metadata": {},
     "output_type": "execute_result"
    }
   ],
   "source": [
    "x = -5: 0.01: 20\n",
    "a = 1.5\n",
    "\n",
    "\n",
    "function exp_pdf(xs, a)\n",
    "    pdf = zeros(length(xs))\n",
    "    for i in 1: length(pdf)\n",
    "        if xs[i] < 0\n",
    "            pdf[i] = 0.0\n",
    "        else\n",
    "            pdf[i] = exp(-xs[i]./a) ./ a\n",
    "        end\n",
    "    end\n",
    "    return pdf\n",
    "end\n",
    "\n",
    "\n",
    "function exp_cdf(xs, a)\n",
    "    cdf = zeros(length(xs))\n",
    "    for i in 1:length(cdf)\n",
    "        if xs[i] < 0\n",
    "            cdf[i] = 0\n",
    "        else\n",
    "            cdf[i] = 1 - exp(- xs[i] / a)\n",
    "        end\n",
    "    end\n",
    "    return cdf\n",
    "end\n",
    "\n",
    "\n",
    "density = exp_pdf(x, a);\n",
    "plot(x, density, label=\"Probability Density Function\", xlabel=L\"x\", ylabel=L\"y\")\n",
    "cdf = exp_cdf(x, a)\n",
    "plot!(x, cdf, label=\"Cumulative Distribution Function\", title=L\"$\\exp(1.5)$\")"
   ]
  },
  {
   "cell_type": "markdown",
   "metadata": {
    "slideshow": {
     "slide_type": "skip"
    }
   },
   "source": [
    "## 1.2 Common Distributions"
   ]
  },
  {
   "cell_type": "markdown",
   "metadata": {
    "slideshow": {
     "slide_type": "slide"
    }
   },
   "source": [
    "1.2.1 Bernoulli distribution  \n",
    "1.2.2 Binomial distribution  \n",
    "1.2.3 Poisson distribution  \n",
    "1.2.4 Normal distribution  \n",
    "1.2.5 Gamma distribution"
   ]
  },
  {
   "cell_type": "markdown",
   "metadata": {},
   "source": [
    "### 1.2.1 Bernoulli Distribution"
   ]
  },
  {
   "cell_type": "markdown",
   "metadata": {
    "slideshow": {
     "slide_type": "subslide"
    }
   },
   "source": [
    "* Discrete distribution where $x$ is a binary random number\n",
    "\n",
    "$\\hspace{0.9cm}$ $x=1$ with probability $p$  \n",
    "$\\hspace{0.9cm}$ $x=0$ with probability $q$\n",
    "\n",
    "\n",
    "* Mean value is $\\langle x \\rangle=p$\n",
    "\n",
    "\n",
    "* Variance. Use fact that $x^2=x$ so that $\\langle x^2 \\rangle=p$.  \n",
    "Hence Var$(x)=\\langle x^2 \\rangle-\\langle x \\rangle^2=p(1-p)=pq$\n",
    "\n",
    "\n",
    "* **<font color='red'>Question:</font>** Generate Bernoulli random numbers using the rand command and check this variance."
   ]
  },
  {
   "cell_type": "code",
   "execution_count": 3,
   "metadata": {},
   "outputs": [
    {
     "name": "stdout",
     "output_type": "stream",
     "text": [
      "var(random_nums) = 0.17777777777777784\n",
      "p * (1 - p) = 0.24\n"
     ]
    }
   ],
   "source": [
    "p = 0.6\n",
    "random_nums = rand(10)\n",
    "random_nums = random_nums .> 0.6\n",
    "@show var(random_nums);\n",
    "@show p*(1-p);"
   ]
  },
  {
   "cell_type": "markdown",
   "metadata": {},
   "source": [
    "### 1.2.2 Binomial Distribution"
   ]
  },
  {
   "cell_type": "markdown",
   "metadata": {
    "slideshow": {
     "slide_type": "subslide"
    }
   },
   "source": [
    "* It's a sum of $n$ independent and identically distributed Bernoulli random variables $X=\\sum_{j=1}^nx_j$\n",
    "\n",
    "\n",
    "\n",
    "* Discrete distribution with $n+1$ states.\n",
    "\n",
    "\n",
    "\n",
    "* Order unimportant so combinatorial factor is required.\n",
    "\n",
    "\n",
    "* Interpret as prefactor of terms in the expansion of $(p+q)^n$ so need Pascal's Triangle\n",
    "\n",
    "$\\hspace{0.9cm}$  $P(X=k)={{n}\\choose{k}}p^kq^{n-k}$\n",
    "\n",
    "* Mean $\\langle X \\rangle=\\sum_{j=1}^n\\langle x_j \\rangle=np$\n",
    "\n",
    "\n",
    "\n",
    "* **<font color='red'>Question:</font>** What is the variance?\n",
    "\n",
    "    $$\n",
    "    \\begin{align*}\n",
    "    \\text{Var}[x] = & \\text{Var}[\\sum_{j = 1}^n X_j] \\\\\n",
    "    = & \\sum_{j = 1}^n \\text{Var}[X_j] \\\\\n",
    "    = & \\sum_{j = 1}^n p(1-p) \\\\\n",
    "    = & np (1-p).\n",
    "    \\end{align*}\n",
    "    $$"
   ]
  },
  {
   "cell_type": "code",
   "execution_count": 4,
   "metadata": {},
   "outputs": [],
   "source": [
    "#  Binomial distribution examples\n",
    "MyBinomial(n,k,p)=binomial.(n,k).*(p.^k).*((1-p).^(n.-k));\n",
    "\n",
    "p1=0.1; n1=5;  k1=collect(0:n1); y1=MyBinomial(n1,k1,p1)\n",
    "p2=0.5; n2=5;  k2=collect(0:n2); y2=MyBinomial(n2,k2,p2)\n",
    "p3=0.5; n3=10; k3=collect(0:n3); y3=MyBinomial(n3,k3,p3);"
   ]
  },
  {
   "cell_type": "code",
   "execution_count": 5,
   "metadata": {},
   "outputs": [
    {
     "data": {
      "image/png": "[encoded data removed]"
     },
     "execution_count": 5,
     "metadata": {},
     "output_type": "execute_result"
    }
   ],
   "source": [
    "plot(k1, y1, label=\"p=$p1, n=$n1\")\n",
    "plot!(k2, y2, label=\"p=$p2, n=$n2\")\n",
    "plot!(k3, y3, label=\"p=$p3 n=$n3\", title=\"binomial distributions\", \n",
    "    xlabel=\"k\", ylabel=\"P(k)\")"
   ]
  },
  {
   "cell_type": "markdown",
   "metadata": {},
   "source": [
    "### 1.2.3 Poisson Distribution"
   ]
  },
  {
   "cell_type": "markdown",
   "metadata": {
    "slideshow": {
     "slide_type": "subslide"
    }
   },
   "source": [
    "* Discrete distribution with a countable infinity of states $k=0,~1,~2,~\\cdots$.   \n",
    "\n",
    "\n",
    "* Determined by parameter $\\lambda$ which is the typical number of times something happens.\n",
    "\n",
    "$\\hspace{0.8cm}$ $P(k)=e^{-\\lambda}\\frac{\\lambda^k}{k!}$\n",
    "\n",
    "* Mean number of events is $\\lambda$\n",
    "\n",
    "\n",
    "* Variance in number of events is also $\\lambda$"
   ]
  },
  {
   "cell_type": "code",
   "execution_count": 6,
   "metadata": {},
   "outputs": [],
   "source": [
    "# Poisson distribution examples\n",
    "MyPoisson(lam,k)=exp(-lam)*(lam.^k)./gamma.(k.+1)\n",
    "\n",
    "k=collect(0:20);\n",
    "lam1=1;     y1=MyPoisson(lam1,k)\n",
    "lam2=2.5;   y2=MyPoisson(lam2,k)\n",
    "lam3=5;     y3=MyPoisson(lam3,k);"
   ]
  },
  {
   "cell_type": "code",
   "execution_count": 7,
   "metadata": {},
   "outputs": [
    {
     "data": {
      "image/png": "[encoded data removed]"
     },
     "execution_count": 7,
     "metadata": {},
     "output_type": "execute_result"
    }
   ],
   "source": [
    "plot(k, y1, label=\"l=$lam1\")\n",
    "plot!(k, y2, label=\"l=$lam2\")\n",
    "plot!(k, y3, label=\"l=$lam3\", title=\"poisson distributions\", xlabel=\"k\", ylabel=\"P(k)\")"
   ]
  },
  {
   "cell_type": "markdown",
   "metadata": {},
   "source": [
    "### 1.2.4 Normal Distribution"
   ]
  },
  {
   "cell_type": "markdown",
   "metadata": {
    "slideshow": {
     "slide_type": "subslide"
    }
   },
   "source": [
    "* Continuous distribution ubiquitous due to _Central Limit Theorem_: sums of random numbers tends to a Normal  \n",
    "\n",
    "$\\hspace{0.8cm}$ $f(x)=\\frac{1}{\\sqrt{2\\pi\\sigma^2}}\\exp\\left(\\frac{-(x-\\mu)^2}{2\\sigma^2}\\right)$\n",
    "\n",
    "* Specified by the mean $\\mu$ and variance $\\sigma^2$.\n",
    "\n",
    "\n",
    "* Standard normal: $\\mu=0$ and $\\sigma^2=1$\n",
    "\n",
    "\n",
    "* Sum of Gaussian numbers is a Gaussian number (with summed mean and variances).   \n"
   ]
  },
  {
   "cell_type": "code",
   "execution_count": 8,
   "metadata": {},
   "outputs": [],
   "source": [
    "# Normal distribution examples\n",
    "MyNormal(x,mu,sig)=exp.(-(x.-mu).^2/(2*sig^2))/sqrt(2*pi*sig^2);\n",
    "\n",
    "x=collect(-10:0.1:10);\n",
    "mu1=0.0; s1=1.0;       y1=MyNormal(x,mu1,s1)\n",
    "mu2=1.0; s2=2.0;       y2=MyNormal(x,mu2,s2)\n",
    "mu3=3.0; s3=sqrt(5.0); y3=MyNormal(x,mu3,s3);"
   ]
  },
  {
   "cell_type": "code",
   "execution_count": 9,
   "metadata": {},
   "outputs": [
    {
     "data": {
      "image/png": "[encoded data removed]"
     },
     "execution_count": 9,
     "metadata": {},
     "output_type": "execute_result"
    }
   ],
   "source": [
    "plot(x,y1,label=\"mu=$mu1 sig2=$(s1^2)\")\n",
    "plot!(x,y2,label=\"mu=$mu2 sig2=$(s2^2)\")\n",
    "plot!(x,y3,label=\"mu=$mu3 sig2=$(round(s3^2;digits=1))\", title=\"normal distributions\", xlabel=\"x\",\n",
    "    ylabel=(\"f(x)\"))"
   ]
  },
  {
   "cell_type": "markdown",
   "metadata": {},
   "source": [
    "### 1.2.6 Gamma Distribution"
   ]
  },
  {
   "cell_type": "markdown",
   "metadata": {
    "slideshow": {
     "slide_type": "subslide"
    }
   },
   "source": [
    "* Continuous distribution parameterised by $\\alpha$ and $\\beta$ with\n",
    "\n",
    "$\\hspace{0.7cm}$ $f(x)=\\theta(x)\\frac{1}{\\Gamma(\\alpha)}\\beta^\\alpha x^{\\alpha-1}e^{-\\beta x}$\n",
    "\n",
    "* Parameters $\\alpha$ and $\\beta$ is set the shape.\n",
    "* Special case: Erlang distribution with $\\alpha=k$ where $k=1,~2,~\\cdots$ is a positive integer. \n",
    "* Special case: $\\chi^2_k$ distribution with $\\alpha=k/2$ where $k=1,~2,~\\cdots$ is a positive integer and $\\beta=1/2$.\n",
    "$\\chi^2_k(x)=\\theta(x)\\frac{1}{2^{k/2}\\Gamma(k/2)}x^{k/2-1}e^{-x/2}$\n",
    "\n",
    "\n",
    "* **<font color='red'>Question:</font>** What are mean and variance in terms of $\\alpha$ and $\\beta$?  \n",
    "    HINT: use normalisation condition.\n",
    "    \n",
    "    $$\n",
    "    \\begin{align*}\n",
    "    \\mathbb{E}[X] = & \\int_{-\\infty}^\\infty \\theta(x) \\frac{\\beta^\\alpha}{\\Gamma(\\alpha)} x^{\\alpha-1} e^{-\\beta x}x dx \\\\\n",
    "    = & \\int_0^\\infty \\frac{\\beta^\\alpha}{\\Gamma(\\alpha)} x^\\alpha e^{-\\beta x} dx \\\\\n",
    "    = & - \\frac{\\beta^{\\alpha-1}}{\\Gamma(\\alpha)} \\int_0^\\infty x^\\alpha d e^{-\\beta x} \\\\\n",
    "    = & - \\frac{\\beta^{\\alpha-1}}{\\Gamma(\\alpha)} \\left( \\left. x^\\alpha e^{-\\beta x} \\right|_0^\\infty - \\alpha \\int_0^\\infty e^{-\\beta x} x^{\\alpha - 1} dx \\right) \\\\\n",
    "    = & - \\frac{\\beta^{\\alpha-1}}{\\Gamma(\\alpha)} \\left( - \\alpha \\int_0^\\infty e^{-\\beta x} x^{\\alpha - 1} dx \\right) \\\\\n",
    "    = & \\frac{\\alpha}{\\beta} \\int_0^\\infty \\frac{\\beta^\\alpha}{\\Gamma(\\alpha)} e^{-\\beta x} x^{\\alpha-1} dx \\\\\n",
    "    = & \\frac{\\alpha}{\\beta}.\n",
    "    \\end{align*}\n",
    "    $$\n",
    "    \n",
    "    and\n",
    "    \n",
    "    $$\n",
    "    \\begin{align*}\n",
    "    \\mathbb{E}[X^2] = & \\int_{-\\infty}^\\infty \\theta(x)  \\frac{\\beta^\\alpha}{\\Gamma(\\alpha)} x^{\\alpha-1}e^{-\\beta x} x^2 dx \\\\\n",
    "    = & \\frac{\\beta^\\alpha}{\\Gamma(\\alpha)} \\int_0^\\infty x^{\\alpha+1} e^{-\\beta x} dx \\\\\n",
    "    = & - \\frac{\\beta^{\\alpha-1}}{\\Gamma(\\alpha)} \\int_0^\\infty x^{\\alpha+1} de^{-\\beta x} \\\\\n",
    "    = & - \\frac{\\beta^{\\alpha-1}}{\\Gamma(\\alpha)} \\left( \\left. x^{\\alpha+1}e^{-\\beta x} \\right|_0^\\infty - (\\alpha+1) \\int_0^\\infty e^{-\\beta x} x^{\\alpha} dx \\right) \\\\\n",
    "    = & \\frac{\\alpha+1}{\\beta} \\int_0^\\infty \\frac{\\beta^\\alpha}{\\Gamma(\\alpha)} x^\\alpha e^{-\\beta x} dx \\\\\n",
    "    = & \\frac{\\alpha+1}{\\beta} \\mathbb{E}[X] \\\\\n",
    "    = & \\frac{\\alpha+1}{\\beta} \\cdot \\frac{\\alpha}{\\beta} \\\\\n",
    "    = & \\frac{\\alpha^2 + \\alpha}{\\beta^2}.\n",
    "    \\end{align*}\n",
    "    $$\n",
    "    \n",
    "    Thus, \n",
    "    \n",
    "    $$\n",
    "    \\text{Var}[X] = \\mathbb{E}[X^2] - \\mathbb{E}[X]^2 = \\frac{\\alpha}{\\beta^2}.\n",
    "    $$"
   ]
  },
  {
   "cell_type": "code",
   "execution_count": 10,
   "metadata": {},
   "outputs": [],
   "source": [
    "# Gamma distributions\n",
    "MyGamma(a,b,x)=(b^a)*x.^(a-1.0).*exp.(-b*x)/gamma(a);\n",
    "\n",
    "x=collect(0.01:0.01:15.1);\n",
    "a1=0.5; b1=1.0; y1=MyGamma(a1,b1,x)\n",
    "a2=1.0; b2=1.0; y2=MyGamma(a2,b2,x)\n",
    "a3=5.0; b3=1.0; y3=MyGamma(a3,b3,x);"
   ]
  },
  {
   "cell_type": "code",
   "execution_count": 11,
   "metadata": {},
   "outputs": [
    {
     "data": {
      "image/png": "[encoded data removed]"
     },
     "execution_count": 11,
     "metadata": {},
     "output_type": "execute_result"
    }
   ],
   "source": [
    "plot(x, y1, label=\"a=$a1 b=$b1\")\n",
    "plot!(x, y2, label=\"a=$a2 b=$b2\")\n",
    "plot!(x, y3, label=\"a=$a3 b=$b3\", title=\"gamma distributions\", xlabel=\"x\", ylabel=\"f(x)\") "
   ]
  },
  {
   "cell_type": "markdown",
   "metadata": {},
   "source": [
    "## 1.3 Distributions Continued"
   ]
  },
  {
   "cell_type": "markdown",
   "metadata": {
    "slideshow": {
     "slide_type": "slide"
    }
   },
   "source": [
    "1.3.1 Sums of random numbers   \n",
    "1.3.2 Multidimensional distributions  \n",
    "1.3.3 Marginal and conditional distributions    \n",
    "1.3.4 Transformations of random variables    "
   ]
  },
  {
   "cell_type": "markdown",
   "metadata": {},
   "source": [
    "### 1.3.1 Sums of Random Numbers"
   ]
  },
  {
   "cell_type": "markdown",
   "metadata": {
    "slideshow": {
     "slide_type": "subslide"
    }
   },
   "source": [
    "* Consider two independent random numbers $x$ and $y$ with distributions $f(x)$ and $g(y)$  \n",
    "\n",
    "\n",
    "* Then $z=x+y$ has a distribution $h(z)$ that satisfies\n",
    "\n",
    "\n",
    "$\\hspace{0.8cm}$ $h(z)=\\int dx \\int dy \\delta(z-x-y)f(x)g(y)$\n",
    "\n",
    "$\\hspace{0.8cm}$ $h(z)=\\int dx f(x)g(z-x)$\n",
    "\n",
    "* This is a convolution suggesting a multiplication in Fourier space.  \n"
   ]
  },
  {
   "cell_type": "markdown",
   "metadata": {},
   "source": [
    "### 1.3.1.1 <font color='red'>Question:</font> Gamma Sum Rules"
   ]
  },
  {
   "cell_type": "markdown",
   "metadata": {
    "slideshow": {
     "slide_type": "subslide"
    }
   },
   "source": [
    "* Gamma distribution $\\hspace{0.7cm}$ $g(x)=\\frac{1}{\\Gamma(\\alpha)}\\beta^\\alpha x^{\\alpha-1}e^{-\\beta x}$ for $x>0$.\n",
    "\n",
    "\n",
    "* Sum of two Gamma randoms with $(\\alpha_1,\\beta)$ and $(\\alpha_2,\\beta)$ is a Gamma random with $(\\alpha_1+\\alpha_2,\\beta$)\n",
    "\n",
    "\n",
    "* Use the rule $g(x)=\\int dx_1 \\int dx_2 \\delta(x-x_1-x_2)g(x_1)g(x_2)$ to demonstrate this assertion.\n",
    "\n",
    "    $$\n",
    "    \\begin{align*}\n",
    "    \n",
    "    \\end{align*}\n",
    "    $$\n",
    "\n",
    "* The Beta function will be of use   \n",
    "\n",
    "\n",
    "$\\hspace{0.8cm}$ $B(\\alpha_1,\\alpha_2)=\\int_0^1du~ u^{\\alpha_1-1}(1-u)^{\\alpha_2-1}=\\frac{\\Gamma(\\alpha_1)\\Gamma(\\alpha_2)}{\\Gamma(\\alpha_1+\\alpha_2)}$ "
   ]
  },
  {
   "cell_type": "markdown",
   "metadata": {},
   "source": [
    "#### 1.3.1.2 <font color='green'>Answer:</font> Gamma Sum Rules"
   ]
  },
  {
   "cell_type": "markdown",
   "metadata": {},
   "source": [
    "* Gamma distribution $\\hspace{0.7cm}$ $g(x)=\\frac{1}{\\Gamma(\\alpha)}\\beta^\\alpha x^{\\alpha-1}e^{-\\beta x}$ for $x>0$.\n",
    "\n",
    "\n",
    "* Substitute into the integral formula\n",
    "\n",
    "\n",
    "$\\hspace{0.8cm}$ $g(x)=\\frac{1}{\\Gamma(\\alpha_1)\\Gamma(\\alpha_2)}\\beta^{\\alpha_1+\\alpha_2}\\int_0^\\infty dx_1 \\int_0^\\infty dx_2\\delta(x-x_1-x_2)x_1^{\\alpha_1-1}x_2^{\\alpha_2-1}e^{-\\beta(x_1+x_2)}$\n",
    "\n",
    "* Use the Dirac delta function\n",
    "\n",
    "$\\hspace{0.8cm}$ $g(x)=\\frac{1}{\\Gamma(\\alpha_1)\\Gamma(\\alpha_2)}\\beta^{\\alpha_1+\\alpha_2}e^{-\\beta  x}\\int_0^x dx_1 x_1^{\\alpha_1-1}(x-x_1)^{\\alpha_2-1}$\n",
    "\n",
    "* Rescale the integral $u=x_1/x$ use the Beta function $\\int_0^1du u^{\\alpha_1-1}(1-u)^{\\alpha_2-1}=\\frac{\\Gamma(\\alpha_1)\\Gamma(\\alpha_2)}{\\Gamma(\\alpha_1+\\alpha_2)}$ to give\n",
    "\n",
    "$\\hspace{0.8cm}$ $g(x)=\\frac{1}{\\Gamma(\\alpha_1+\\alpha_2)}\\beta^{\\alpha_1+\\alpha_2} x^{\\alpha_1+\\alpha_2-1}e^{-\\beta x}$  "
   ]
  },
  {
   "cell_type": "markdown",
   "metadata": {},
   "source": [
    "### 1.3.2 Multidimensional Distributions"
   ]
  },
  {
   "cell_type": "markdown",
   "metadata": {
    "slideshow": {
     "slide_type": "subslide"
    }
   },
   "source": [
    "* Discrete case $P(X,Y)$ where $X$ and $Y$ have a countable number of states and the normalisation is\n",
    "\n",
    "$\\hspace{0.8cm}$ $1=\\sum_{X}\\sum_{Y}P(X,Y)$\n",
    "\n",
    "* Continuous case $f(x,y)$ where the normalisation is by the double integral\n",
    "\n",
    "$\\hspace{0.8cm}$ $1=\\int dx \\int dy f(x,y)$\n",
    "\n",
    "* Independence $f(x,y)=f(x)f(y)$  \n",
    "\n",
    "\n",
    "* Expectations of joint variables\n",
    "\n",
    "$\\hspace{0.8cm}$ Covariance $\\sigma_{xy}^2=\\langle (x-\\mu_x)(y-\\mu_y)\\rangle = \\langle xy \\rangle - \\mu_x\\mu_y$ \n",
    "\n",
    "$\\hspace{0.8cm}$ Correlation $\\rho_{xy}=\\frac{\\sigma_{xy}^2}{\\sigma_x\\sigma_y}$ which is dimensionless\n",
    "\n"
   ]
  },
  {
   "cell_type": "markdown",
   "metadata": {},
   "source": [
    "### 1.3.3 Marginal and Conditional Distributions"
   ]
  },
  {
   "cell_type": "markdown",
   "metadata": {
    "slideshow": {
     "slide_type": "subslide"
    }
   },
   "source": [
    "* Marginal distribution of $X$ first $P(X)=\\sum_{Y}P(X,Y)=\\sum_{Y}P(X|Y)P(Y)$  \n",
    "\n",
    "\n",
    "* Example:\n",
    "\n",
    "    | $~$ | $x_1$ | $x_2$ | $x_3$ | $P_y$  |\n",
    "    | ---- | --- | --- | --- | :----- |\n",
    "    | $y_1$ | 1/16 | 3/16 | 5/16 | 9/16  |\n",
    "    | $y_2$ | 2/16 | 3/16 | 2/16 | 7/16  |\n",
    "    | $P_x$ | 3/16 | 6/16 |7/16  |    |\n",
    "\n",
    "\n",
    "* For the continuous case\n",
    "\n",
    "$\\hspace{0.8cm}$ $f(x)=\\int dy f(x,y)=\\int dy f(x|y)f(y)$\n",
    "\n",
    "* Note the definition of the conditional density\n",
    "\n",
    "$\\hspace{0.8cm}$ $f(x|y)=f(x,y)/f(y)$\n",
    "\n"
   ]
  },
  {
   "cell_type": "markdown",
   "metadata": {},
   "source": [
    "### 1.3.4 Transformations of Random Variables"
   ]
  },
  {
   "cell_type": "markdown",
   "metadata": {
    "slideshow": {
     "slide_type": "subslide"
    }
   },
   "source": [
    "* Consider a transformation from a continuously distributed random variable $Y$ to a new variable $X=g(Y)$. \n",
    "\n",
    "\n",
    "* Can use the marginal distribution definition where the conditional density is $f_{x|y}(x|y)=\\delta(x-g(y))$.\n",
    "\n",
    "$\\hspace{0.8cm}$ $f_x(x)=\\int dy f_{x|y}(x|y)f_y(y)=f_y(y)\\frac{dy}{dg}$\n",
    " \n",
    " \n",
    "* Factor $dg/dy$ from the Dirac delta (integral over $dy$ not $dx$). \n",
    "* Note the mass-preserving transformation is $f(x)dx=f(y)dy$. \n",
    "* But take care when mapping is not one-to-one, like $X=Y^2$.  \n"
   ]
  },
  {
   "cell_type": "markdown",
   "metadata": {},
   "source": [
    "#### 1.3.4.1 <font color='red'>Question:</font> Generating Random Variables"
   ]
  },
  {
   "cell_type": "markdown",
   "metadata": {
    "slideshow": {
     "slide_type": "subslide"
    }
   },
   "source": [
    "* We want to generate random variables $X$ with a distribution $f_x(x)$.\n",
    "* We can easily generate random variables $Y$ uniformly in the range $0\\to1$, so $f_y(y)=1$  \n",
    "\n",
    "\n",
    "* What is the transformation $X=g(Y)$ required?\n",
    "* What is the link to the cumulative distribution?\n",
    "* Give the transformation required to generate exponentially distributed random numbers: $f(x)=\\theta(x)e^{-x/a}/a$.\n",
    "* Generate some exponentially distributed random numbers and compare with $f(x)$.  "
   ]
  },
  {
   "cell_type": "markdown",
   "metadata": {},
   "source": [
    "#### 1.3.4.2 <font color='green'>Answer:</font> Generating Random Variables"
   ]
  },
  {
   "cell_type": "markdown",
   "metadata": {},
   "source": [
    "* From the transformation rules $f_x(x)dx=f_y(y)dy$ so that $f_x(x)dx=dy$.  \n",
    "* On integration  $y=\\int_{-\\infty}^xdxf_x(x)$ which is the cumulative distribution.\n",
    "* Therefore $Y=F(X)$ and therefore $g(Y)=F^{-1}(Y)$ is the transformation required.\n",
    "\n",
    "\n",
    "* For exponentially distributed random numbers $F(x)=1-e^{-x/a}$\n",
    "* So the transformation is $X=-a\\log(1-Y)$."
   ]
  },
  {
   "cell_type": "markdown",
   "metadata": {},
   "source": [
    "## 1.4 Characteristic Functions "
   ]
  },
  {
   "cell_type": "markdown",
   "metadata": {
    "slideshow": {
     "slide_type": "slide"
    }
   },
   "source": [
    "1.4.1 Definition of the characteristic function  \n",
    "1.4.2 Properties of the characteristic function  \n",
    "1.4.3 Characteristic functions for common distributions  \n",
    "1.4.4 Calculations using characteristic functions"
   ]
  },
  {
   "cell_type": "markdown",
   "metadata": {},
   "source": [
    "### 1.4.1 Definition of the Characteristic Function"
   ]
  },
  {
   "cell_type": "markdown",
   "metadata": {
    "slideshow": {
     "slide_type": "subslide"
    }
   },
   "source": [
    "* Definition of the $m$th moment $\\langle X^m \\rangle$\n",
    "\n",
    "\n",
    "* Moment generating function  \n",
    "\n",
    "$\\hspace{0.8cm}$ $M(t)=\\langle e^{tX} \\rangle=\\sum_{m=0}^\\infty\\langle X^m \\rangle\\frac{t^m}{m!}$\n",
    "\n",
    "* Characteristic function takes form  \n",
    "\n",
    "$\\hspace{0.8cm}$  $\\phi_X(t)=\\langle e^{itX} \\rangle=\\sum_{m=0}^\\infty\\langle X^m \\rangle\\frac{(it)^m}{m!}$\n",
    "\n",
    "* Closely related to the moment generating function, but always exists.\n",
    "\n",
    "\n",
    "* Basically a Fourier transform for the continuous case: $\\phi_X(t)=\\langle e^{itX}\\rangle=\\int dx f(x) e^{itx}$\n"
   ]
  },
  {
   "cell_type": "markdown",
   "metadata": {},
   "source": [
    "### 1.4.2 Properties of the Characteristic Function"
   ]
  },
  {
   "cell_type": "markdown",
   "metadata": {
    "slideshow": {
     "slide_type": "subslide"
    }
   },
   "source": [
    "* Characteristic function $\\phi_X(t)=\\langle e^{itX} \\rangle$\n",
    "\n",
    "* Fundamental convention $\\phi_X(0)=1$\n",
    "\n",
    "* Sum of two independent random variables $X=X_1+X_2$\n",
    "\n",
    "$\\hspace{0.8cm}$  $\\phi_X(t)=\\langle e^{it(X_1+X_2)} \\rangle=\\langle e^{itX_1}\\rangle\\langle e^{itX_2} \\rangle=\\phi_{X_1}(t)\\phi_{X_2}(t)$\n",
    "\n",
    "* Obvious generalisation to sums of multiple random variables \n",
    "\n",
    "* Useful for later. Consider a sample mean $\\bar{X}=\\frac{1}{n}\\sum_{k=1}^nX_k$ from $n$ independent samples.\n",
    "\n",
    "$\\hspace{0.8cm}$  $\\phi_\\bar{X}(t)=\\langle e^{itX/n}\\rangle^n=[\\phi_X(t/n)]^n$\n",
    "\n"
   ]
  },
  {
   "cell_type": "markdown",
   "metadata": {},
   "source": [
    "### 1.4.3 Characteristic Functions of Common Distributions"
   ]
  },
  {
   "cell_type": "markdown",
   "metadata": {
    "slideshow": {
     "slide_type": "subslide"
    }
   },
   "source": [
    "* Example for a Bernouilli distribution with probability $p=1-q$  \n",
    "$\\phi_X(t)=pe^{it}+q$\n",
    "\n",
    "\n",
    "* Summary for other distributions \n",
    "\n",
    "    | Distribution | characteristic function $\\phi(t)$ |\n",
    "    | --- | :---: |\n",
    "    |Bernoulli  | $1-p+pe^{it}$ |\n",
    "    | Binomial | $(1-p+pe^{it})^n$ |\n",
    "    | Poisson | $e^{\\lambda(e^{it}-1)}$ |\n",
    "    | Normal | $e^{it\\mu-\\sigma^2t^2/2}$ |\n",
    "    | Gamma | $(1-it/\\beta)^{-\\alpha}$ |"
   ]
  },
  {
   "cell_type": "markdown",
   "metadata": {},
   "source": [
    "### 1.4.4 Calculations Using Characteristic Functions "
   ]
  },
  {
   "cell_type": "markdown",
   "metadata": {
    "slideshow": {
     "slide_type": "subslide"
    }
   },
   "source": [
    "* Bernoulli has a characteristic function  $\\phi_x(t)=1-p+pe^{it}$ \n",
    "\n",
    "\n",
    "* A binomial random number is a sum of independent Bernoulli randoms $X=\\sum_{j=1}^nx_j$ \n",
    "\n",
    "\n",
    "* Characteristic functions of a sum of independent randoms is a product of their individual characteristic functions.  \n",
    "\n",
    "\n",
    "* Hence $\\phi_X(t)=\\phi_x(t)^n=(1-p+pe^{it})^n$ as expected."
   ]
  },
  {
   "cell_type": "markdown",
   "metadata": {},
   "source": [
    "#### 1.4.4.1 <font color='red'>Question:</font> Calculations Using Characteristic Functions "
   ]
  },
  {
   "cell_type": "markdown",
   "metadata": {
    "slideshow": {
     "slide_type": "subslide"
    }
   },
   "source": [
    "If $X=X_1+X_2$, then\n",
    "\n",
    "$$\n",
    "\\phi_X(t)=\\langle e^{it(X_1+X_2)} \\rangle=\\langle e^{itX_1}\\rangle\\langle e^{itX_2} \\rangle=\\phi_{X_1}(t)\\phi_{X_2}(t).\n",
    "$$\n",
    "\n",
    "- Use this product rule for characteristic functions to derive the summation rules for:\n",
    "\n",
    "    1. Normally-distributed random numbers   \n",
    "    2. Gamma-distributed random numbers  \n"
   ]
  },
  {
   "cell_type": "markdown",
   "metadata": {},
   "source": [
    "#### 1.4.4.2 <font color='green'>Answer:</font> Calculations Using Characteristic Functions "
   ]
  },
  {
   "cell_type": "markdown",
   "metadata": {},
   "source": [
    "1. For **normally-distributed** random numbers $\\phi_{x_k}(t)=e^{it\\mu_k-\\sigma^2_kt^2/2}$ so that the product of two characteristic functions results in a characteristic function for a normal distribution but with $\\mu=\\mu_1+\\mu_2$ and $\\sigma^2=\\sigma^2_1+\\sigma^2_2$.   \n",
    "\n",
    "2. Similarly for **gamma-distributed** random numbers where $\\phi_{x_k}(t)=(1-t/\\beta)^{-\\alpha_k}$ the product of two characteristic functions (with the same $\\beta$) results in a Gamma-distribution characteristic function but with $\\alpha=\\alpha_1+\\alpha_2$ as required.  "
   ]
  }
 ],
 "metadata": {
  "celltoolbar": "Slideshow",
  "kernelspec": {
   "display_name": "Julia 1.5.3",
   "language": "julia",
   "name": "julia-1.5"
  },
  "language_info": {
   "file_extension": ".jl",
   "mimetype": "application/julia",
   "name": "julia",
   "version": "1.5.3"
  },
  "rise": {
   "enable_chalkboard": true,
   "scroll": true
  }
 },
 "nbformat": 4,
 "nbformat_minor": 2
}
